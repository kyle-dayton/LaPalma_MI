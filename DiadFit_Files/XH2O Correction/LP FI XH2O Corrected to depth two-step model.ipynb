{
 "cells": [
  {
   "cell_type": "raw",
   "id": "12412838-aa28-459e-8588-38f7e3c4aebe",
   "metadata": {},
   "source": [
    "## Converting XH2O Corrected FI pressures to Depth Using two-step density model"
   ]
  },
  {
   "cell_type": "code",
   "execution_count": 6,
   "id": "d7b3f1aa-c106-44d2-8040-68478c4d4eca",
   "metadata": {},
   "outputs": [
    {
     "data": {
      "text/plain": [
       "'0.0.81'"
      ]
     },
     "execution_count": 6,
     "metadata": {},
     "output_type": "execute_result"
    }
   ],
   "source": [
    "import pandas as pd\n",
    "import numpy as np\n",
    "import matplotlib.pyplot as plt\n",
    "import DiadFit as pf\n",
    "pf.__version__"
   ]
  },
  {
   "cell_type": "code",
   "execution_count": 7,
   "id": "93e4a89f-b15c-42ac-84e5-0acedcb90bf0",
   "metadata": {},
   "outputs": [],
   "source": [
    "#!pip install DiadFit --upgrade"
   ]
  },
  {
   "cell_type": "markdown",
   "id": "e8e4a03c-58b8-4417-b00c-0e843a9e6497",
   "metadata": {},
   "source": [
    "Loading in MI Saturation Pressures"
   ]
  },
  {
   "cell_type": "code",
   "execution_count": 8,
   "id": "5fd59abb-9d01-4daa-b38d-02fcdf7cd1cd",
   "metadata": {},
   "outputs": [
    {
     "data": {
      "text/html": [
       "<div>\n",
       "<style scoped>\n",
       "    .dataframe tbody tr th:only-of-type {\n",
       "        vertical-align: middle;\n",
       "    }\n",
       "\n",
       "    .dataframe tbody tr th {\n",
       "        vertical-align: top;\n",
       "    }\n",
       "\n",
       "    .dataframe thead th {\n",
       "        text-align: right;\n",
       "    }\n",
       "</style>\n",
       "<table border=\"1\" class=\"dataframe\">\n",
       "  <thead>\n",
       "    <tr style=\"text-align: right;\">\n",
       "      <th></th>\n",
       "      <th>FileName (Files with _FI are from Dayton Sci. Adv)</th>\n",
       "      <th>Density_g_cm3</th>\n",
       "      <th>P_DZ06_0mol%</th>\n",
       "      <th>P_DZ06_5mol%</th>\n",
       "      <th>P_DZ06_10mol%</th>\n",
       "      <th>P_DZ06_15mol%</th>\n",
       "      <th>P_DZ06_20mol%</th>\n",
       "    </tr>\n",
       "  </thead>\n",
       "  <tbody>\n",
       "    <tr>\n",
       "      <th>0</th>\n",
       "      <td>LM-2 G1 FI1_FI</td>\n",
       "      <td>0.875803</td>\n",
       "      <td>6.092399</td>\n",
       "      <td>6.619199</td>\n",
       "      <td>7.242565</td>\n",
       "      <td>7.990810</td>\n",
       "      <td>8.903844</td>\n",
       "    </tr>\n",
       "    <tr>\n",
       "      <th>1</th>\n",
       "      <td>LM-2 G10 FI1_FI</td>\n",
       "      <td>0.821194</td>\n",
       "      <td>5.282777</td>\n",
       "      <td>5.717643</td>\n",
       "      <td>6.228758</td>\n",
       "      <td>6.837781</td>\n",
       "      <td>7.575091</td>\n",
       "    </tr>\n",
       "    <tr>\n",
       "      <th>2</th>\n",
       "      <td>LM-2 G10 FI2_FI</td>\n",
       "      <td>0.802568</td>\n",
       "      <td>5.030751</td>\n",
       "      <td>5.438225</td>\n",
       "      <td>5.916031</td>\n",
       "      <td>6.483907</td>\n",
       "      <td>7.169473</td>\n",
       "    </tr>\n",
       "    <tr>\n",
       "      <th>3</th>\n",
       "      <td>LM-2 G10 FI3_FI</td>\n",
       "      <td>0.813774</td>\n",
       "      <td>5.181005</td>\n",
       "      <td>5.604736</td>\n",
       "      <td>6.102300</td>\n",
       "      <td>6.694573</td>\n",
       "      <td>7.410807</td>\n",
       "    </tr>\n",
       "    <tr>\n",
       "      <th>4</th>\n",
       "      <td>LM-2 G10 FI4_FI</td>\n",
       "      <td>0.821356</td>\n",
       "      <td>5.285026</td>\n",
       "      <td>5.720140</td>\n",
       "      <td>6.231555</td>\n",
       "      <td>6.840951</td>\n",
       "      <td>7.578730</td>\n",
       "    </tr>\n",
       "    <tr>\n",
       "      <th>...</th>\n",
       "      <td>...</td>\n",
       "      <td>...</td>\n",
       "      <td>...</td>\n",
       "      <td>...</td>\n",
       "      <td>...</td>\n",
       "      <td>...</td>\n",
       "      <td>...</td>\n",
       "    </tr>\n",
       "    <tr>\n",
       "      <th>157</th>\n",
       "      <td>LM6 G8 FI4_FI</td>\n",
       "      <td>0.908053</td>\n",
       "      <td>6.626231</td>\n",
       "      <td>7.216565</td>\n",
       "      <td>7.917810</td>\n",
       "      <td>8.763001</td>\n",
       "      <td>9.798802</td>\n",
       "    </tr>\n",
       "    <tr>\n",
       "      <th>158</th>\n",
       "      <td>LM6 G8 FI5_FI</td>\n",
       "      <td>0.905506</td>\n",
       "      <td>6.582417</td>\n",
       "      <td>7.167458</td>\n",
       "      <td>7.862208</td>\n",
       "      <td>8.699305</td>\n",
       "      <td>9.724847</td>\n",
       "    </tr>\n",
       "    <tr>\n",
       "      <th>159</th>\n",
       "      <td>LM6 G8 FI9_FI</td>\n",
       "      <td>0.898324</td>\n",
       "      <td>6.460447</td>\n",
       "      <td>7.030825</td>\n",
       "      <td>7.707588</td>\n",
       "      <td>8.522278</td>\n",
       "      <td>9.519428</td>\n",
       "    </tr>\n",
       "    <tr>\n",
       "      <th>160</th>\n",
       "      <td>LM6 G9 FI1_FI</td>\n",
       "      <td>0.835594</td>\n",
       "      <td>5.485648</td>\n",
       "      <td>5.943004</td>\n",
       "      <td>6.481520</td>\n",
       "      <td>7.124456</td>\n",
       "      <td>7.904489</td>\n",
       "    </tr>\n",
       "    <tr>\n",
       "      <th>161</th>\n",
       "      <td>LM6 G9 FI5_FI</td>\n",
       "      <td>0.000723</td>\n",
       "      <td>0.001944</td>\n",
       "      <td>0.002047</td>\n",
       "      <td>0.002160</td>\n",
       "      <td>0.002287</td>\n",
       "      <td>0.002430</td>\n",
       "    </tr>\n",
       "  </tbody>\n",
       "</table>\n",
       "<p>162 rows × 7 columns</p>\n",
       "</div>"
      ],
      "text/plain": [
       "    FileName (Files with _FI are from Dayton Sci. Adv)  Density_g_cm3  \\\n",
       "0                                       LM-2 G1 FI1_FI       0.875803   \n",
       "1                                      LM-2 G10 FI1_FI       0.821194   \n",
       "2                                      LM-2 G10 FI2_FI       0.802568   \n",
       "3                                      LM-2 G10 FI3_FI       0.813774   \n",
       "4                                      LM-2 G10 FI4_FI       0.821356   \n",
       "..                                                 ...            ...   \n",
       "157                                      LM6 G8 FI4_FI       0.908053   \n",
       "158                                      LM6 G8 FI5_FI       0.905506   \n",
       "159                                      LM6 G8 FI9_FI       0.898324   \n",
       "160                                      LM6 G9 FI1_FI       0.835594   \n",
       "161                                      LM6 G9 FI5_FI       0.000723   \n",
       "\n",
       "     P_DZ06_0mol%  P_DZ06_5mol%  P_DZ06_10mol%  P_DZ06_15mol%  P_DZ06_20mol%  \n",
       "0        6.092399      6.619199       7.242565       7.990810       8.903844  \n",
       "1        5.282777      5.717643       6.228758       6.837781       7.575091  \n",
       "2        5.030751      5.438225       5.916031       6.483907       7.169473  \n",
       "3        5.181005      5.604736       6.102300       6.694573       7.410807  \n",
       "4        5.285026      5.720140       6.231555       6.840951       7.578730  \n",
       "..            ...           ...            ...            ...            ...  \n",
       "157      6.626231      7.216565       7.917810       8.763001       9.798802  \n",
       "158      6.582417      7.167458       7.862208       8.699305       9.724847  \n",
       "159      6.460447      7.030825       7.707588       8.522278       9.519428  \n",
       "160      5.485648      5.943004       6.481520       7.124456       7.904489  \n",
       "161      0.001944      0.002047       0.002160       0.002287       0.002430  \n",
       "\n",
       "[162 rows x 7 columns]"
      ]
     },
     "execution_count": 8,
     "metadata": {},
     "output_type": "execute_result"
    }
   ],
   "source": [
    "df=pd.read_excel('XH2O_FI_Corrections.xlsx')\n",
    "df"
   ]
  },
  {
   "cell_type": "code",
   "execution_count": 25,
   "id": "e4419d4e-96c3-4df9-83c9-7a037d394437",
   "metadata": {},
   "outputs": [],
   "source": [
    "sample_column=df['FileName (Files with _FI are from Dayton Sci. Adv)']\n",
    "df['FileName (Files with _FI are from Dayton Sci. Adv)']= sample_column\n",
    "\n",
    "\n",
    "#FI Corrected with XH2O kbar to depth\n",
    "ZeroMol_H2O=pf.convert_pressure_to_depth(P_kbar=df['P_DZ06_0mol%'], model='two-step', d1=14, rho1=2800, rho2=3100)\n",
    "fiveMol_H2O=pf.convert_pressure_to_depth(P_kbar=df['P_DZ06_5mol%'], model='two-step', d1=14, rho1=2800, rho2=3100)\n",
    "tenMol_H2O=pf.convert_pressure_to_depth(P_kbar=df['P_DZ06_10mol%'], model='two-step', d1=14, rho1=2800, rho2=3100)\n",
    "fifteenMol_H2O=pf.convert_pressure_to_depth(P_kbar=df['P_DZ06_15mol%'], model='two-step', d1=14, rho1=2800, rho2=3100)\n",
    "twentyMol_H2O=pf.convert_pressure_to_depth(P_kbar=df['P_DZ06_20mol%'], model='two-step', d1=14, rho1=2800, rho2=3100)\n",
    "\n",
    "df['ZeroMol_H2O']=ZeroMol_H2O\n",
    "df['fiveMol_H2O']=fiveMol_H2O\n",
    "df['tenMol_H2O']=tenMol_H2O\n",
    "df['fifteenMol_H2O']=fifteenMol_H2O\n",
    "df['twentyMol_H2O']=twentyMol_H2O\n",
    "\n",
    "\n",
    "#exporting data\n",
    "#with pd.ExcelWriter('XH2O_FI_Corrections_Depth.xlsx', engine='xlsxwriter') as writer:\n",
    " #   df[['FileName (Files with _FI are from Dayton Sci. Adv)', 'ZeroMol_H2O', 'fiveMol_H2O', 'tenMol_H2O', 'fifteenMol_H2O', 'twentyMol_H2O']].to_excel(writer, sheet_name='S9. XH2O Corrections', index=False)"
   ]
  },
  {
   "cell_type": "code",
   "execution_count": 26,
   "id": "bf78a46b-1b2c-42f3-a1c4-72625e97e4c2",
   "metadata": {},
   "outputs": [
    {
     "data": {
      "text/plain": [
       "0      23.120643\n",
       "1      20.156072\n",
       "2      19.237266\n",
       "3      19.784800\n",
       "4      20.164282\n",
       "         ...    \n",
       "157    25.084953\n",
       "158    24.923475\n",
       "159    24.474188\n",
       "160    20.897124\n",
       "161     0.007451\n",
       "Length: 162, dtype: float64"
      ]
     },
     "execution_count": 26,
     "metadata": {},
     "output_type": "execute_result"
    }
   ],
   "source": [
    "#FI 5Mol% H2O\n",
    "fiveMol_H2O=pf.convert_pressure_to_depth(P_kbar=df['P_DZ06_5mol%'], model='two-step', d1=14, rho1=2800, rho2=3100)\n",
    "fiveMol_H2O"
   ]
  },
  {
   "cell_type": "code",
   "execution_count": 15,
   "id": "0de55ca9-0d81-40d5-a69c-471b422e2cbd",
   "metadata": {},
   "outputs": [
    {
     "data": {
      "text/plain": [
       "0      25.170447\n",
       "1      21.836763\n",
       "2      20.808429\n",
       "3      21.420934\n",
       "4      21.845962\n",
       "         ...    \n",
       "157    27.390846\n",
       "158    27.208010\n",
       "159    26.699575\n",
       "160    22.667916\n",
       "161     0.007864\n",
       "Length: 162, dtype: float64"
      ]
     },
     "execution_count": 15,
     "metadata": {},
     "output_type": "execute_result"
    }
   ],
   "source": [
    "#FI 10Mol% H2O\n",
    "tenMol_H2O=pf.convert_pressure_to_depth(P_kbar=df['P_DZ06_10mol%'], model='two-step', d1=14, rho1=2800, rho2=3100)\n",
    "tenMol_H2O"
   ]
  },
  {
   "cell_type": "code",
   "execution_count": 16,
   "id": "3beaec62-4fe0-49ef-8ab7-951a2b1eb998",
   "metadata": {},
   "outputs": [
    {
     "data": {
      "text/plain": [
       "0      27.630890\n",
       "1      23.839404\n",
       "2      22.675764\n",
       "3      23.368496\n",
       "4      23.849827\n",
       "         ...    \n",
       "157    30.170074\n",
       "158    29.960623\n",
       "159    29.378507\n",
       "160    24.782074\n",
       "161     0.008327\n",
       "Length: 162, dtype: float64"
      ]
     },
     "execution_count": 16,
     "metadata": {},
     "output_type": "execute_result"
    }
   ],
   "source": [
    "#FI 15Mol% H2O\n",
    "fifteenMol_H2O=pf.convert_pressure_to_depth(P_kbar=df['P_DZ06_15mol%'], model='two-step', d1=14, rho1=2800, rho2=3100)\n",
    "fifteenMol_H2O"
   ]
  },
  {
   "cell_type": "code",
   "execution_count": null,
   "id": "27753745-a500-46a8-9cfe-d1cff7e1b2fd",
   "metadata": {},
   "outputs": [],
   "source": []
  }
 ],
 "metadata": {
  "kernelspec": {
   "display_name": "Python 3 (ipykernel)",
   "language": "python",
   "name": "python3"
  },
  "language_info": {
   "codemirror_mode": {
    "name": "ipython",
    "version": 3
   },
   "file_extension": ".py",
   "mimetype": "text/x-python",
   "name": "python",
   "nbconvert_exporter": "python",
   "pygments_lexer": "ipython3",
   "version": "3.9.13"
  }
 },
 "nbformat": 4,
 "nbformat_minor": 5
}
