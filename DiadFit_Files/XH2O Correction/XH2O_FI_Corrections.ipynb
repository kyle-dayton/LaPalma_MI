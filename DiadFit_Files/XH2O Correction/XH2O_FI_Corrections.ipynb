{
 "cells": [
  {
   "cell_type": "code",
   "execution_count": 12,
   "metadata": {},
   "outputs": [],
   "source": [
    "import pandas as pd\n",
    "import numpy as np\n",
    "import matplotlib.pyplot as plt\n",
    "import DiadFit as pf"
   ]
  },
  {
   "cell_type": "code",
   "execution_count": 13,
   "metadata": {},
   "outputs": [],
   "source": [
    "df=pd.read_excel('LP_MI_Sup_Data_1_24_24.xlsx', sheet_name='S9. XH2O Correction')\n",
    "\n",
    "sample_column=df['FileName (Files with _FI are from Dayton Sci. Adv)']\n",
    "df['FileName (Files with _FI are from Dayton Sci. Adv)']= sample_column\n"
   ]
  },
  {
   "cell_type": "code",
   "execution_count": 14,
   "metadata": {},
   "outputs": [],
   "source": [
    "Diff_EOS_0=pf.calculate_entrapment_P_XH2O(XH2O=0, CO2_dens_gcm3=df['Density_g_cm3'], T_K=1150+273.15)\n",
    "Diff_EOS_05=pf.calculate_entrapment_P_XH2O(XH2O=0.05, CO2_dens_gcm3=df['Density_g_cm3'], T_K=1150+273.15)\n",
    "Diff_EOS_10=pf.calculate_entrapment_P_XH2O(XH2O=0.1, CO2_dens_gcm3=df['Density_g_cm3'], T_K=1150+273.15)\n",
    "Diff_EOS_15=pf.calculate_entrapment_P_XH2O(XH2O=0.15, CO2_dens_gcm3=df['Density_g_cm3'], T_K=1150+273.15)\n",
    "Diff_EOS_20=pf.calculate_entrapment_P_XH2O(XH2O=0.2, CO2_dens_gcm3=df['Density_g_cm3'], T_K=1150+273.15)\n",
    "\n",
    "df['P_DZ06_0mol%']=Diff_EOS_0['P_kbar_mixCO2_DZ06']\n",
    "df['P_DZ06_5mol%']=Diff_EOS_05['P_kbar_mixCO2_DZ06']\n",
    "df['P_DZ06_10mol%']=Diff_EOS_10['P_kbar_mixCO2_DZ06']\n",
    "df['P_DZ06_15mol%']=Diff_EOS_15['P_kbar_mixCO2_DZ06']\n",
    "df['P_DZ06_20mol%']=Diff_EOS_20['P_kbar_mixCO2_DZ06']\n",
    "\n",
    "#exporting data\n",
    "with pd.ExcelWriter('XH2O_FI_Corrections.xlsx', engine='xlsxwriter') as writer:\n",
    "    df[['FileName (Files with _FI are from Dayton Sci. Adv)', 'Density_g_cm3', 'P_DZ06_0mol%','P_DZ06_5mol%', 'P_DZ06_10mol%', 'P_DZ06_15mol%', 'P_DZ06_20mol%']].to_excel(writer, sheet_name='S9. XH2O Corrections', index=False)"
   ]
  },
  {
   "cell_type": "code",
   "execution_count": null,
   "metadata": {},
   "outputs": [],
   "source": []
  },
  {
   "cell_type": "code",
   "execution_count": null,
   "metadata": {},
   "outputs": [],
   "source": []
  }
 ],
 "metadata": {
  "kernelspec": {
   "display_name": "Python 3 (ipykernel)",
   "language": "python",
   "name": "python3"
  },
  "language_info": {
   "codemirror_mode": {
    "name": "ipython",
    "version": 3
   },
   "file_extension": ".py",
   "mimetype": "text/x-python",
   "name": "python",
   "nbconvert_exporter": "python",
   "pygments_lexer": "ipython3",
   "version": "3.9.13"
  }
 },
 "nbformat": 4,
 "nbformat_minor": 4
}
