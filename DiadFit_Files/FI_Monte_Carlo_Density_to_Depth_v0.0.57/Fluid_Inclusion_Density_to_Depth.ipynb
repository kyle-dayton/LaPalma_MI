{
 "cells": [
  {
   "cell_type": "markdown",
   "id": "14c0d7bd-b360-412b-9c1b-6952be1ff3af",
   "metadata": {},
   "source": [
    "# Example from La Palma\n",
    "- This notebook shows how to convert the Raman-based FI densities from Dayton et al. (2023) into pressures and depths in the crust\n",
    "- This assumes +-50K in entrapment temperature, and an error in CO$_2$ density of 0.002925\n",
    "- Depth is calculated using a 2-step density profile, with 2.8 g/cm3 above the Moho, and 3.1 g/cm3 below\n",
    "- Get the data here!\n",
    "- https://github.com/PennyWieser/DiadFit/blob/main/docs/Examples/Example5_FI_density_to_depth/Dayton_et_al_2023_LaPalma_Example.xlsx"
   ]
  },
  {
   "cell_type": "code",
   "execution_count": 16,
   "id": "8f31fa32-ec74-4136-a6d6-578c3544d75d",
   "metadata": {},
   "outputs": [
    {
     "data": {
      "text/plain": [
       "'0.0.57'"
      ]
     },
     "execution_count": 16,
     "metadata": {},
     "output_type": "execute_result"
    }
   ],
   "source": [
    "import pandas as pd\n",
    "import numpy as np\n",
    "import matplotlib.pyplot as plt\n",
    "import DiadFit as pf\n",
    "pf.__version__"
   ]
  },
  {
   "cell_type": "markdown",
   "id": "74c00252-8e94-474d-bb74-c5b2a1b22f2b",
   "metadata": {},
   "source": [
    "## Lets load in the data"
   ]
  },
  {
   "cell_type": "code",
   "execution_count": 17,
   "id": "f5f0e52e-8f00-4bf5-85ac-7b4a64ef9587",
   "metadata": {},
   "outputs": [
    {
     "data": {
      "text/html": [
       "<div>\n",
       "<style scoped>\n",
       "    .dataframe tbody tr th:only-of-type {\n",
       "        vertical-align: middle;\n",
       "    }\n",
       "\n",
       "    .dataframe tbody tr th {\n",
       "        vertical-align: top;\n",
       "    }\n",
       "\n",
       "    .dataframe thead th {\n",
       "        text-align: right;\n",
       "    }\n",
       "</style>\n",
       "<table border=\"1\" class=\"dataframe\">\n",
       "  <thead>\n",
       "    <tr style=\"text-align: right;\">\n",
       "      <th></th>\n",
       "      <th>SAMPLE</th>\n",
       "      <th>FileName (Files with _FI are from Dayton Sci. Adv)</th>\n",
       "      <th>Density_g_cm3</th>\n",
       "      <th>Comment (EPMA Data Point)</th>\n",
       "      <th>Na2O</th>\n",
       "      <th>MgO</th>\n",
       "      <th>SiO2</th>\n",
       "      <th>Al2O3</th>\n",
       "      <th>P2O5</th>\n",
       "      <th>K2O</th>\n",
       "      <th>CaO</th>\n",
       "      <th>TiO2</th>\n",
       "      <th>FeO</th>\n",
       "      <th>MnO</th>\n",
       "      <th>Cr2O3</th>\n",
       "      <th>NiO</th>\n",
       "      <th>Total</th>\n",
       "      <th>Host_Fo_content</th>\n",
       "      <th>T_C</th>\n",
       "    </tr>\n",
       "  </thead>\n",
       "  <tbody>\n",
       "    <tr>\n",
       "      <th>0</th>\n",
       "      <td>0</td>\n",
       "      <td>LM0 G20 I1</td>\n",
       "      <td>0.947659</td>\n",
       "      <td>NaN</td>\n",
       "      <td>NaN</td>\n",
       "      <td>NaN</td>\n",
       "      <td>NaN</td>\n",
       "      <td>NaN</td>\n",
       "      <td>NaN</td>\n",
       "      <td>NaN</td>\n",
       "      <td>NaN</td>\n",
       "      <td>NaN</td>\n",
       "      <td>NaN</td>\n",
       "      <td>NaN</td>\n",
       "      <td>NaN</td>\n",
       "      <td>NaN</td>\n",
       "      <td>NaN</td>\n",
       "      <td>NaN</td>\n",
       "      <td>1150</td>\n",
       "    </tr>\n",
       "    <tr>\n",
       "      <th>1</th>\n",
       "      <td>0</td>\n",
       "      <td>LM0 G20 I10</td>\n",
       "      <td>0.915707</td>\n",
       "      <td>NaN</td>\n",
       "      <td>NaN</td>\n",
       "      <td>NaN</td>\n",
       "      <td>NaN</td>\n",
       "      <td>NaN</td>\n",
       "      <td>NaN</td>\n",
       "      <td>NaN</td>\n",
       "      <td>NaN</td>\n",
       "      <td>NaN</td>\n",
       "      <td>NaN</td>\n",
       "      <td>NaN</td>\n",
       "      <td>NaN</td>\n",
       "      <td>NaN</td>\n",
       "      <td>NaN</td>\n",
       "      <td>NaN</td>\n",
       "      <td>1150</td>\n",
       "    </tr>\n",
       "    <tr>\n",
       "      <th>2</th>\n",
       "      <td>0</td>\n",
       "      <td>LM0 G20 I12</td>\n",
       "      <td>0.921483</td>\n",
       "      <td>NaN</td>\n",
       "      <td>NaN</td>\n",
       "      <td>NaN</td>\n",
       "      <td>NaN</td>\n",
       "      <td>NaN</td>\n",
       "      <td>NaN</td>\n",
       "      <td>NaN</td>\n",
       "      <td>NaN</td>\n",
       "      <td>NaN</td>\n",
       "      <td>NaN</td>\n",
       "      <td>NaN</td>\n",
       "      <td>NaN</td>\n",
       "      <td>NaN</td>\n",
       "      <td>NaN</td>\n",
       "      <td>NaN</td>\n",
       "      <td>1150</td>\n",
       "    </tr>\n",
       "    <tr>\n",
       "      <th>3</th>\n",
       "      <td>0</td>\n",
       "      <td>LM0 G20 I2</td>\n",
       "      <td>0.901082</td>\n",
       "      <td>NaN</td>\n",
       "      <td>NaN</td>\n",
       "      <td>NaN</td>\n",
       "      <td>NaN</td>\n",
       "      <td>NaN</td>\n",
       "      <td>NaN</td>\n",
       "      <td>NaN</td>\n",
       "      <td>NaN</td>\n",
       "      <td>NaN</td>\n",
       "      <td>NaN</td>\n",
       "      <td>NaN</td>\n",
       "      <td>NaN</td>\n",
       "      <td>NaN</td>\n",
       "      <td>NaN</td>\n",
       "      <td>NaN</td>\n",
       "      <td>1150</td>\n",
       "    </tr>\n",
       "    <tr>\n",
       "      <th>4</th>\n",
       "      <td>0</td>\n",
       "      <td>LM0 G20 I3</td>\n",
       "      <td>0.925438</td>\n",
       "      <td>NaN</td>\n",
       "      <td>NaN</td>\n",
       "      <td>NaN</td>\n",
       "      <td>NaN</td>\n",
       "      <td>NaN</td>\n",
       "      <td>NaN</td>\n",
       "      <td>NaN</td>\n",
       "      <td>NaN</td>\n",
       "      <td>NaN</td>\n",
       "      <td>NaN</td>\n",
       "      <td>NaN</td>\n",
       "      <td>NaN</td>\n",
       "      <td>NaN</td>\n",
       "      <td>NaN</td>\n",
       "      <td>NaN</td>\n",
       "      <td>1150</td>\n",
       "    </tr>\n",
       "  </tbody>\n",
       "</table>\n",
       "</div>"
      ],
      "text/plain": [
       "   SAMPLE FileName (Files with _FI are from Dayton Sci. Adv)  Density_g_cm3  \\\n",
       "0       0                                         LM0 G20 I1       0.947659   \n",
       "1       0                                        LM0 G20 I10       0.915707   \n",
       "2       0                                        LM0 G20 I12       0.921483   \n",
       "3       0                                         LM0 G20 I2       0.901082   \n",
       "4       0                                         LM0 G20 I3       0.925438   \n",
       "\n",
       "  Comment (EPMA Data Point)  Na2O  MgO  SiO2  Al2O3  P2O5  K2O  CaO  TiO2  \\\n",
       "0                       NaN   NaN  NaN   NaN    NaN   NaN  NaN  NaN   NaN   \n",
       "1                       NaN   NaN  NaN   NaN    NaN   NaN  NaN  NaN   NaN   \n",
       "2                       NaN   NaN  NaN   NaN    NaN   NaN  NaN  NaN   NaN   \n",
       "3                       NaN   NaN  NaN   NaN    NaN   NaN  NaN  NaN   NaN   \n",
       "4                       NaN   NaN  NaN   NaN    NaN   NaN  NaN  NaN   NaN   \n",
       "\n",
       "   FeO  MnO  Cr2O3  NiO  Total  Host_Fo_content   T_C  \n",
       "0  NaN  NaN    NaN  NaN    NaN              NaN  1150  \n",
       "1  NaN  NaN    NaN  NaN    NaN              NaN  1150  \n",
       "2  NaN  NaN    NaN  NaN    NaN              NaN  1150  \n",
       "3  NaN  NaN    NaN  NaN    NaN              NaN  1150  \n",
       "4  NaN  NaN    NaN  NaN    NaN              NaN  1150  "
      ]
     },
     "execution_count": 17,
     "metadata": {},
     "output_type": "execute_result"
    }
   ],
   "source": [
    "data=pd.read_excel('Dayton_MI_FI_Decrep_Montecarlo_input.xlsx',\n",
    "                   sheet_name='Sheet1')\n",
    "data.head()"
   ]
  },
  {
   "cell_type": "markdown",
   "id": "770bb813-3a5b-44e0-92f4-63e887a3643b",
   "metadata": {},
   "source": [
    "- We can fisualize the range of meausured densities"
   ]
  },
  {
   "cell_type": "code",
   "execution_count": 18,
   "id": "c537eb2d-226e-494e-8994-fc9fb4a77b66",
   "metadata": {},
   "outputs": [
    {
     "data": {
      "text/plain": [
       "Text(0, 0.5, '# of meas')"
      ]
     },
     "execution_count": 18,
     "metadata": {},
     "output_type": "execute_result"
    },
    {
     "data": {
      "image/png": "[encoded data removed]",
      "text/plain": [
       "<Figure size 432x288 with 1 Axes>"
      ]
     },
     "metadata": {
      "needs_background": "light"
     },
     "output_type": "display_data"
    }
   ],
   "source": [
    "plt.hist(data['Density_g_cm3'], ec='k')\n",
    "plt.xlabel('CO$_2$ density (g/cm^3)')\n",
    "plt.ylabel('# of meas')"
   ]
  },
  {
   "cell_type": "markdown",
   "id": "6ef9cd0c-3963-47a2-bd32-3463709f3b2a",
   "metadata": {},
   "source": [
    "## Now lets propagate uncertainty in each fluid inclusion\n",
    "- Here we use a temperature of 1150 K, with a +-50 K (i.e. an absolute uncertainty) distributed normally\n",
    "- We say the error in CO2 density (from repeated Raman measurements) is 0.002925 g/cm3 (i.e. an absolute uncertainty) distributed normally \n",
    "- We want to use 2 step crustal density model, with 2800 kg/m3 above 14km depth, and 3100kg/m3 below"
   ]
  },
  {
   "cell_type": "code",
   "execution_count": 19,
   "id": "775b76e1-37e2-468c-9640-e80202d4a817",
   "metadata": {},
   "outputs": [
    {
     "data": {
      "text/plain": [
       "0     0.947659\n",
       "1     0.915707\n",
       "2     0.921483\n",
       "3     0.901082\n",
       "4     0.925438\n",
       "5     0.937493\n",
       "6     0.926373\n",
       "7     0.927380\n",
       "8     0.519607\n",
       "9     0.478975\n",
       "10    0.915484\n",
       "11    0.919935\n",
       "12    0.855757\n",
       "13    0.866095\n",
       "14    0.850259\n",
       "15    0.861791\n",
       "16    0.530632\n",
       "17    0.489587\n",
       "18    0.663438\n",
       "19    0.487715\n",
       "20    0.724630\n",
       "21    0.663691\n",
       "22    0.594364\n",
       "23    0.000952\n",
       "24    0.033137\n",
       "25    0.025503\n",
       "26    0.212425\n",
       "27    0.038486\n",
       "28    0.001025\n",
       "29    0.033277\n",
       "30    0.813806\n",
       "31    0.836018\n",
       "32    0.835248\n",
       "33    0.798244\n",
       "34    0.869970\n",
       "35    0.514241\n",
       "36    0.045820\n",
       "37    0.724447\n",
       "38    0.322377\n",
       "39    0.347804\n",
       "40    0.327543\n",
       "41    0.000723\n",
       "Name: Density_g_cm3, dtype: float64"
      ]
     },
     "execution_count": 19,
     "metadata": {},
     "output_type": "execute_result"
    }
   ],
   "source": [
    "data['Density_g_cm3']"
   ]
  },
  {
   "cell_type": "code",
   "execution_count": 20,
   "id": "01b41d4c-8842-4fe5-b5e8-3de7aabfc5e1",
   "metadata": {},
   "outputs": [
    {
     "name": "stdout",
     "output_type": "stream",
     "text": [
      "working on sample number 0\n",
      "working on sample number 20\n",
      "working on sample number 40\n"
     ]
    },
    {
     "data": {
      "text/html": [
       "<div>\n",
       "<style scoped>\n",
       "    .dataframe tbody tr th:only-of-type {\n",
       "        vertical-align: middle;\n",
       "    }\n",
       "\n",
       "    .dataframe tbody tr th {\n",
       "        vertical-align: top;\n",
       "    }\n",
       "\n",
       "    .dataframe thead th {\n",
       "        text-align: right;\n",
       "    }\n",
       "</style>\n",
       "<table border=\"1\" class=\"dataframe\">\n",
       "  <thead>\n",
       "    <tr style=\"text-align: right;\">\n",
       "      <th></th>\n",
       "      <th>Filename</th>\n",
       "      <th>CO2_dens_gcm3</th>\n",
       "      <th>SingleFI_D_km</th>\n",
       "      <th>SingleFI_P_kbar</th>\n",
       "      <th>Mean_MC_P_kbar</th>\n",
       "      <th>Med_MC_P_kbar</th>\n",
       "      <th>std_dev_MC_P_kbar</th>\n",
       "      <th>Mean_MC_D_km</th>\n",
       "      <th>Med_MC_D_km</th>\n",
       "      <th>std_dev_MC_D_km</th>\n",
       "      <th>error_T_K</th>\n",
       "      <th>error_CO2_dens_gcm3</th>\n",
       "      <th>error_crust_dens_kgm3</th>\n",
       "      <th>T_K</th>\n",
       "      <th>CO2_dens_gcm3_input</th>\n",
       "      <th>model</th>\n",
       "      <th>crust_dens_kgm3</th>\n",
       "      <th>EOS</th>\n",
       "    </tr>\n",
       "  </thead>\n",
       "  <tbody>\n",
       "    <tr>\n",
       "      <th>0</th>\n",
       "      <td>LM0 G20 I1</td>\n",
       "      <td>0.947659</td>\n",
       "      <td>25.034117</td>\n",
       "      <td>7.201105</td>\n",
       "      <td>7.203172</td>\n",
       "      <td>7.192699</td>\n",
       "      <td>0.254611</td>\n",
       "      <td>25.040914</td>\n",
       "      <td>25.006474</td>\n",
       "      <td>0.837233</td>\n",
       "      <td>50</td>\n",
       "      <td>0.002925</td>\n",
       "      <td>0.0</td>\n",
       "      <td>1423.15</td>\n",
       "      <td>0.947659</td>\n",
       "      <td>two-step</td>\n",
       "      <td>None</td>\n",
       "      <td>SW96</td>\n",
       "    </tr>\n",
       "    <tr>\n",
       "      <th>1</th>\n",
       "      <td>LM0 G20 I10</td>\n",
       "      <td>0.915707</td>\n",
       "      <td>23.244187</td>\n",
       "      <td>6.656770</td>\n",
       "      <td>6.651611</td>\n",
       "      <td>6.651630</td>\n",
       "      <td>0.242471</td>\n",
       "      <td>23.227223</td>\n",
       "      <td>23.227287</td>\n",
       "      <td>0.797314</td>\n",
       "      <td>50</td>\n",
       "      <td>0.002925</td>\n",
       "      <td>0.0</td>\n",
       "      <td>1423.15</td>\n",
       "      <td>0.915707</td>\n",
       "      <td>two-step</td>\n",
       "      <td>None</td>\n",
       "      <td>SW96</td>\n",
       "    </tr>\n",
       "    <tr>\n",
       "      <th>2</th>\n",
       "      <td>LM0 G20 I12</td>\n",
       "      <td>0.921483</td>\n",
       "      <td>23.559444</td>\n",
       "      <td>6.752643</td>\n",
       "      <td>6.747800</td>\n",
       "      <td>6.746732</td>\n",
       "      <td>0.236508</td>\n",
       "      <td>23.543521</td>\n",
       "      <td>23.540007</td>\n",
       "      <td>0.777705</td>\n",
       "      <td>50</td>\n",
       "      <td>0.002925</td>\n",
       "      <td>0.0</td>\n",
       "      <td>1423.15</td>\n",
       "      <td>0.921483</td>\n",
       "      <td>two-step</td>\n",
       "      <td>None</td>\n",
       "      <td>SW96</td>\n",
       "    </tr>\n",
       "    <tr>\n",
       "      <th>3</th>\n",
       "      <td>LM0 G20 I2</td>\n",
       "      <td>0.901082</td>\n",
       "      <td>22.462063</td>\n",
       "      <td>6.418918</td>\n",
       "      <td>6.413511</td>\n",
       "      <td>6.420854</td>\n",
       "      <td>0.237277</td>\n",
       "      <td>22.444283</td>\n",
       "      <td>22.468428</td>\n",
       "      <td>0.780234</td>\n",
       "      <td>50</td>\n",
       "      <td>0.002925</td>\n",
       "      <td>0.0</td>\n",
       "      <td>1423.15</td>\n",
       "      <td>0.901082</td>\n",
       "      <td>two-step</td>\n",
       "      <td>None</td>\n",
       "      <td>SW96</td>\n",
       "    </tr>\n",
       "    <tr>\n",
       "      <th>4</th>\n",
       "      <td>LM0 G20 I3</td>\n",
       "      <td>0.925438</td>\n",
       "      <td>23.777376</td>\n",
       "      <td>6.818918</td>\n",
       "      <td>6.824841</td>\n",
       "      <td>6.822546</td>\n",
       "      <td>0.237826</td>\n",
       "      <td>23.796852</td>\n",
       "      <td>23.789307</td>\n",
       "      <td>0.782039</td>\n",
       "      <td>50</td>\n",
       "      <td>0.002925</td>\n",
       "      <td>0.0</td>\n",
       "      <td>1423.15</td>\n",
       "      <td>0.925438</td>\n",
       "      <td>two-step</td>\n",
       "      <td>None</td>\n",
       "      <td>SW96</td>\n",
       "    </tr>\n",
       "  </tbody>\n",
       "</table>\n",
       "</div>"
      ],
      "text/plain": [
       "      Filename  CO2_dens_gcm3  SingleFI_D_km  SingleFI_P_kbar  Mean_MC_P_kbar  \\\n",
       "0   LM0 G20 I1       0.947659      25.034117         7.201105        7.203172   \n",
       "1  LM0 G20 I10       0.915707      23.244187         6.656770        6.651611   \n",
       "2  LM0 G20 I12       0.921483      23.559444         6.752643        6.747800   \n",
       "3   LM0 G20 I2       0.901082      22.462063         6.418918        6.413511   \n",
       "4   LM0 G20 I3       0.925438      23.777376         6.818918        6.824841   \n",
       "\n",
       "   Med_MC_P_kbar  std_dev_MC_P_kbar  Mean_MC_D_km  Med_MC_D_km  \\\n",
       "0       7.192699           0.254611     25.040914    25.006474   \n",
       "1       6.651630           0.242471     23.227223    23.227287   \n",
       "2       6.746732           0.236508     23.543521    23.540007   \n",
       "3       6.420854           0.237277     22.444283    22.468428   \n",
       "4       6.822546           0.237826     23.796852    23.789307   \n",
       "\n",
       "   std_dev_MC_D_km  error_T_K  error_CO2_dens_gcm3  error_crust_dens_kgm3  \\\n",
       "0         0.837233         50             0.002925                    0.0   \n",
       "1         0.797314         50             0.002925                    0.0   \n",
       "2         0.777705         50             0.002925                    0.0   \n",
       "3         0.780234         50             0.002925                    0.0   \n",
       "4         0.782039         50             0.002925                    0.0   \n",
       "\n",
       "       T_K  CO2_dens_gcm3_input     model crust_dens_kgm3   EOS  \n",
       "0  1423.15             0.947659  two-step            None  SW96  \n",
       "1  1423.15             0.915707  two-step            None  SW96  \n",
       "2  1423.15             0.921483  two-step            None  SW96  \n",
       "3  1423.15             0.901082  two-step            None  SW96  \n",
       "4  1423.15             0.925438  two-step            None  SW96  "
      ]
     },
     "execution_count": 20,
     "metadata": {},
     "output_type": "execute_result"
    },
    {
     "data": {
      "image/png": "[encoded data removed]",
      "text/plain": [
       "<Figure size 864x576 with 6 Axes>"
      ]
     },
     "metadata": {
      "needs_background": "light"
     },
     "output_type": "display_data"
    }
   ],
   "source": [
    "MC_Av, MC_All, fig=pf.propagate_FI_uncertainty(\n",
    "T_K=1150+273.15,\n",
    "error_T_K=50, \n",
    "error_type_T_K='Abs', \n",
    "error_dist_T_K='normal',\n",
    "CO2_dens_gcm3=data['Density_g_cm3'],\n",
    "error_CO2_dens=0.002925, error_type_CO2_dens='Abs', error_dist_CO2_dens='normal',\n",
    "sample_ID=data['FileName (Files with _FI are from Dayton Sci. Adv)'],\n",
    "model='two-step', d1=14, rho1=2800, rho2=3100,\n",
    "N_dup=1000, fig_i=0, plot_figure=True)\n",
    "MC_Av.head()"
   ]
  },
  {
   "cell_type": "code",
   "execution_count": 23,
   "id": "8f029063-850a-4a58-9b9b-9bd60dfac0a6",
   "metadata": {},
   "outputs": [],
   "source": [
    "MC_Av.head()\n",
    "MC_Av.to_excel('Dayton_MI_FI_Decrep_Montecarlo_output_two_step.xlsx', index=False) "
   ]
  },
  {
   "cell_type": "code",
   "execution_count": 24,
   "id": "2d788a1a-f0f6-4fbe-bf3c-c68de16ea182",
   "metadata": {},
   "outputs": [
    {
     "data": {
      "text/html": [
       "<div>\n",
       "<style scoped>\n",
       "    .dataframe tbody tr th:only-of-type {\n",
       "        vertical-align: middle;\n",
       "    }\n",
       "\n",
       "    .dataframe tbody tr th {\n",
       "        vertical-align: top;\n",
       "    }\n",
       "\n",
       "    .dataframe thead th {\n",
       "        text-align: right;\n",
       "    }\n",
       "</style>\n",
       "<table border=\"1\" class=\"dataframe\">\n",
       "  <thead>\n",
       "    <tr style=\"text-align: right;\">\n",
       "      <th></th>\n",
       "      <th>Filename</th>\n",
       "      <th>Pressure (kbar)</th>\n",
       "      <th>Pressure (MPa)</th>\n",
       "      <th>Depth (km)</th>\n",
       "      <th>input_crust_dens_kgm3</th>\n",
       "      <th>model</th>\n",
       "      <th>MC_T_K</th>\n",
       "      <th>MC_CO2_dens_gcm3</th>\n",
       "    </tr>\n",
       "  </thead>\n",
       "  <tbody>\n",
       "    <tr>\n",
       "      <th>0</th>\n",
       "      <td>LM0 G20 I1</td>\n",
       "      <td>7.694645</td>\n",
       "      <td>769.464494</td>\n",
       "      <td>26.657015</td>\n",
       "      <td>None</td>\n",
       "      <td>two-step</td>\n",
       "      <td>1498.357201</td>\n",
       "      <td>0.954227</td>\n",
       "    </tr>\n",
       "    <tr>\n",
       "      <th>1</th>\n",
       "      <td>LM0 G20 I1</td>\n",
       "      <td>7.754548</td>\n",
       "      <td>775.454845</td>\n",
       "      <td>26.853995</td>\n",
       "      <td>None</td>\n",
       "      <td>two-step</td>\n",
       "      <td>1518.810794</td>\n",
       "      <td>0.951986</td>\n",
       "    </tr>\n",
       "    <tr>\n",
       "      <th>2</th>\n",
       "      <td>LM0 G20 I1</td>\n",
       "      <td>7.226061</td>\n",
       "      <td>722.606145</td>\n",
       "      <td>25.116180</td>\n",
       "      <td>None</td>\n",
       "      <td>two-step</td>\n",
       "      <td>1445.539464</td>\n",
       "      <td>0.942757</td>\n",
       "    </tr>\n",
       "    <tr>\n",
       "      <th>3</th>\n",
       "      <td>LM0 G20 I1</td>\n",
       "      <td>6.969247</td>\n",
       "      <td>696.924664</td>\n",
       "      <td>24.271700</td>\n",
       "      <td>None</td>\n",
       "      <td>two-step</td>\n",
       "      <td>1378.131882</td>\n",
       "      <td>0.947332</td>\n",
       "    </tr>\n",
       "    <tr>\n",
       "      <th>4</th>\n",
       "      <td>LM0 G20 I1</td>\n",
       "      <td>7.676076</td>\n",
       "      <td>767.607592</td>\n",
       "      <td>26.595955</td>\n",
       "      <td>None</td>\n",
       "      <td>two-step</td>\n",
       "      <td>1503.173568</td>\n",
       "      <td>0.951923</td>\n",
       "    </tr>\n",
       "  </tbody>\n",
       "</table>\n",
       "</div>"
      ],
      "text/plain": [
       "     Filename  Pressure (kbar)  Pressure (MPa)  Depth (km)  \\\n",
       "0  LM0 G20 I1         7.694645      769.464494   26.657015   \n",
       "1  LM0 G20 I1         7.754548      775.454845   26.853995   \n",
       "2  LM0 G20 I1         7.226061      722.606145   25.116180   \n",
       "3  LM0 G20 I1         6.969247      696.924664   24.271700   \n",
       "4  LM0 G20 I1         7.676076      767.607592   26.595955   \n",
       "\n",
       "  input_crust_dens_kgm3     model       MC_T_K  MC_CO2_dens_gcm3  \n",
       "0                  None  two-step  1498.357201          0.954227  \n",
       "1                  None  two-step  1518.810794          0.951986  \n",
       "2                  None  two-step  1445.539464          0.942757  \n",
       "3                  None  two-step  1378.131882          0.947332  \n",
       "4                  None  two-step  1503.173568          0.951923  "
      ]
     },
     "execution_count": 24,
     "metadata": {},
     "output_type": "execute_result"
    }
   ],
   "source": [
    "MC_All.head()"
   ]
  },
  {
   "cell_type": "markdown",
   "id": "ac4b93fe-09b7-4edc-9ed2-1cf416af2c2d",
   "metadata": {},
   "source": [
    "### Lets get a logical for each sample"
   ]
  },
  {
   "cell_type": "code",
   "execution_count": 25,
   "id": "4b65bc8b-28e5-43ea-9630-ee78a6501d9b",
   "metadata": {},
   "outputs": [],
   "source": [
    "sam0=data['SAMPLE']==0\n",
    "sam1=data['SAMPLE']==2\n",
    "sam4=data['SAMPLE']==4\n",
    "sam6=data['SAMPLE']==6"
   ]
  },
  {
   "cell_type": "markdown",
   "id": "6fb5b4ed-77d7-484e-b665-f34e5ce9ab6e",
   "metadata": {},
   "source": [
    "## Lets plot each FI depth and its error bar, colored by sample (as in Dayton et al. 2023)"
   ]
  },
  {
   "cell_type": "code",
   "execution_count": 26,
   "id": "c8c064a8-fdab-42ed-a543-ca117b53688d",
   "metadata": {},
   "outputs": [
    {
     "ename": "KeyError",
     "evalue": "'Fo'",
     "output_type": "error",
     "traceback": [
      "\u001b[0;31m---------------------------------------------------------------------------\u001b[0m",
      "\u001b[0;31mKeyError\u001b[0m                                  Traceback (most recent call last)",
      "File \u001b[0;32m~/opt/anaconda3/lib/python3.9/site-packages/pandas/core/indexes/base.py:3621\u001b[0m, in \u001b[0;36mIndex.get_loc\u001b[0;34m(self, key, method, tolerance)\u001b[0m\n\u001b[1;32m   3620\u001b[0m \u001b[38;5;28;01mtry\u001b[39;00m:\n\u001b[0;32m-> 3621\u001b[0m     \u001b[38;5;28;01mreturn\u001b[39;00m \u001b[38;5;28;43mself\u001b[39;49m\u001b[38;5;241;43m.\u001b[39;49m\u001b[43m_engine\u001b[49m\u001b[38;5;241;43m.\u001b[39;49m\u001b[43mget_loc\u001b[49m\u001b[43m(\u001b[49m\u001b[43mcasted_key\u001b[49m\u001b[43m)\u001b[49m\n\u001b[1;32m   3622\u001b[0m \u001b[38;5;28;01mexcept\u001b[39;00m \u001b[38;5;167;01mKeyError\u001b[39;00m \u001b[38;5;28;01mas\u001b[39;00m err:\n",
      "File \u001b[0;32m~/opt/anaconda3/lib/python3.9/site-packages/pandas/_libs/index.pyx:136\u001b[0m, in \u001b[0;36mpandas._libs.index.IndexEngine.get_loc\u001b[0;34m()\u001b[0m\n",
      "File \u001b[0;32m~/opt/anaconda3/lib/python3.9/site-packages/pandas/_libs/index.pyx:163\u001b[0m, in \u001b[0;36mpandas._libs.index.IndexEngine.get_loc\u001b[0;34m()\u001b[0m\n",
      "File \u001b[0;32mpandas/_libs/hashtable_class_helper.pxi:5198\u001b[0m, in \u001b[0;36mpandas._libs.hashtable.PyObjectHashTable.get_item\u001b[0;34m()\u001b[0m\n",
      "File \u001b[0;32mpandas/_libs/hashtable_class_helper.pxi:5206\u001b[0m, in \u001b[0;36mpandas._libs.hashtable.PyObjectHashTable.get_item\u001b[0;34m()\u001b[0m\n",
      "\u001b[0;31mKeyError\u001b[0m: 'Fo'",
      "\nThe above exception was the direct cause of the following exception:\n",
      "\u001b[0;31mKeyError\u001b[0m                                  Traceback (most recent call last)",
      "Input \u001b[0;32mIn [26]\u001b[0m, in \u001b[0;36m<cell line: 5>\u001b[0;34m()\u001b[0m\n\u001b[1;32m      1\u001b[0m fig, (ax1) \u001b[38;5;241m=\u001b[39m plt\u001b[38;5;241m.\u001b[39msubplots(\u001b[38;5;241m1\u001b[39m, \u001b[38;5;241m1\u001b[39m, figsize\u001b[38;5;241m=\u001b[39m(\u001b[38;5;241m6\u001b[39m,\u001b[38;5;241m5\u001b[39m))\n\u001b[1;32m      4\u001b[0m ms\u001b[38;5;241m=\u001b[39m\u001b[38;5;241m7\u001b[39m\n\u001b[0;32m----> 5\u001b[0m ax1\u001b[38;5;241m.\u001b[39merrorbar(\u001b[43mdata\u001b[49m\u001b[43m[\u001b[49m\u001b[38;5;124;43m'\u001b[39;49m\u001b[38;5;124;43mFo\u001b[39;49m\u001b[38;5;124;43m'\u001b[39;49m\u001b[43m]\u001b[49m\u001b[38;5;241m.\u001b[39mloc[sam0], \n\u001b[1;32m      6\u001b[0m              MC_Av[\u001b[38;5;124m'\u001b[39m\u001b[38;5;124mSingleFI_D_km\u001b[39m\u001b[38;5;124m'\u001b[39m]\u001b[38;5;241m.\u001b[39mloc[sam0],\n\u001b[1;32m      7\u001b[0m              xerr\u001b[38;5;241m=\u001b[39m\u001b[38;5;241m0\u001b[39m, yerr\u001b[38;5;241m=\u001b[39mMC_Av[\u001b[38;5;124m'\u001b[39m\u001b[38;5;124mstd_dev_MC_D_km\u001b[39m\u001b[38;5;124m'\u001b[39m]\u001b[38;5;241m.\u001b[39mloc[sam0],\n\u001b[1;32m      8\u001b[0m              fmt\u001b[38;5;241m=\u001b[39m\u001b[38;5;124m'\u001b[39m\u001b[38;5;124mo\u001b[39m\u001b[38;5;124m'\u001b[39m, ecolor\u001b[38;5;241m=\u001b[39m\u001b[38;5;124m'\u001b[39m\u001b[38;5;124mk\u001b[39m\u001b[38;5;124m'\u001b[39m, elinewidth\u001b[38;5;241m=\u001b[39m\u001b[38;5;241m0.8\u001b[39m, mfc\u001b[38;5;241m=\u001b[39m\u001b[38;5;124m'\u001b[39m\u001b[38;5;124mred\u001b[39m\u001b[38;5;124m'\u001b[39m, ms\u001b[38;5;241m=\u001b[39mms, mec\u001b[38;5;241m=\u001b[39m\u001b[38;5;124m'\u001b[39m\u001b[38;5;124mk\u001b[39m\u001b[38;5;124m'\u001b[39m, capsize\u001b[38;5;241m=\u001b[39m\u001b[38;5;241m5\u001b[39m)\n\u001b[1;32m      9\u001b[0m ax1\u001b[38;5;241m.\u001b[39merrorbar(data[\u001b[38;5;124m'\u001b[39m\u001b[38;5;124mFo\u001b[39m\u001b[38;5;124m'\u001b[39m]\u001b[38;5;241m.\u001b[39mloc[sam1], \n\u001b[1;32m     10\u001b[0m              MC_Av[\u001b[38;5;124m'\u001b[39m\u001b[38;5;124mSingleFI_D_km\u001b[39m\u001b[38;5;124m'\u001b[39m]\u001b[38;5;241m.\u001b[39mloc[sam1],\n\u001b[1;32m     11\u001b[0m              xerr\u001b[38;5;241m=\u001b[39m\u001b[38;5;241m0\u001b[39m, yerr\u001b[38;5;241m=\u001b[39mMC_Av[\u001b[38;5;124m'\u001b[39m\u001b[38;5;124mstd_dev_MC_D_km\u001b[39m\u001b[38;5;124m'\u001b[39m]\u001b[38;5;241m.\u001b[39mloc[sam1],\n\u001b[1;32m     12\u001b[0m              fmt\u001b[38;5;241m=\u001b[39m\u001b[38;5;124m'\u001b[39m\u001b[38;5;124m^\u001b[39m\u001b[38;5;124m'\u001b[39m, ecolor\u001b[38;5;241m=\u001b[39m\u001b[38;5;124m'\u001b[39m\u001b[38;5;124mk\u001b[39m\u001b[38;5;124m'\u001b[39m, elinewidth\u001b[38;5;241m=\u001b[39m\u001b[38;5;241m0.8\u001b[39m, mfc\u001b[38;5;241m=\u001b[39m\u001b[38;5;124m'\u001b[39m\u001b[38;5;124mgreen\u001b[39m\u001b[38;5;124m'\u001b[39m, ms\u001b[38;5;241m=\u001b[39mms, mec\u001b[38;5;241m=\u001b[39m\u001b[38;5;124m'\u001b[39m\u001b[38;5;124mk\u001b[39m\u001b[38;5;124m'\u001b[39m, capsize\u001b[38;5;241m=\u001b[39m\u001b[38;5;241m5\u001b[39m)\n\u001b[1;32m     14\u001b[0m ax1\u001b[38;5;241m.\u001b[39merrorbar(data[\u001b[38;5;124m'\u001b[39m\u001b[38;5;124mFo\u001b[39m\u001b[38;5;124m'\u001b[39m]\u001b[38;5;241m.\u001b[39mloc[sam4], \n\u001b[1;32m     15\u001b[0m              MC_Av[\u001b[38;5;124m'\u001b[39m\u001b[38;5;124mSingleFI_D_km\u001b[39m\u001b[38;5;124m'\u001b[39m]\u001b[38;5;241m.\u001b[39mloc[sam4],\n\u001b[1;32m     16\u001b[0m              xerr\u001b[38;5;241m=\u001b[39m\u001b[38;5;241m0\u001b[39m, yerr\u001b[38;5;241m=\u001b[39mMC_Av[\u001b[38;5;124m'\u001b[39m\u001b[38;5;124mstd_dev_MC_D_km\u001b[39m\u001b[38;5;124m'\u001b[39m]\u001b[38;5;241m.\u001b[39mloc[sam4],\n\u001b[1;32m     17\u001b[0m              fmt\u001b[38;5;241m=\u001b[39m\u001b[38;5;124m'\u001b[39m\u001b[38;5;124mv\u001b[39m\u001b[38;5;124m'\u001b[39m, ecolor\u001b[38;5;241m=\u001b[39m\u001b[38;5;124m'\u001b[39m\u001b[38;5;124mk\u001b[39m\u001b[38;5;124m'\u001b[39m, elinewidth\u001b[38;5;241m=\u001b[39m\u001b[38;5;241m0.8\u001b[39m, mfc\u001b[38;5;241m=\u001b[39m\u001b[38;5;124m'\u001b[39m\u001b[38;5;124mblue\u001b[39m\u001b[38;5;124m'\u001b[39m, ms\u001b[38;5;241m=\u001b[39mms, mec\u001b[38;5;241m=\u001b[39m\u001b[38;5;124m'\u001b[39m\u001b[38;5;124mk\u001b[39m\u001b[38;5;124m'\u001b[39m, capsize\u001b[38;5;241m=\u001b[39m\u001b[38;5;241m5\u001b[39m)\n",
      "File \u001b[0;32m~/opt/anaconda3/lib/python3.9/site-packages/pandas/core/frame.py:3505\u001b[0m, in \u001b[0;36mDataFrame.__getitem__\u001b[0;34m(self, key)\u001b[0m\n\u001b[1;32m   3503\u001b[0m \u001b[38;5;28;01mif\u001b[39;00m \u001b[38;5;28mself\u001b[39m\u001b[38;5;241m.\u001b[39mcolumns\u001b[38;5;241m.\u001b[39mnlevels \u001b[38;5;241m>\u001b[39m \u001b[38;5;241m1\u001b[39m:\n\u001b[1;32m   3504\u001b[0m     \u001b[38;5;28;01mreturn\u001b[39;00m \u001b[38;5;28mself\u001b[39m\u001b[38;5;241m.\u001b[39m_getitem_multilevel(key)\n\u001b[0;32m-> 3505\u001b[0m indexer \u001b[38;5;241m=\u001b[39m \u001b[38;5;28;43mself\u001b[39;49m\u001b[38;5;241;43m.\u001b[39;49m\u001b[43mcolumns\u001b[49m\u001b[38;5;241;43m.\u001b[39;49m\u001b[43mget_loc\u001b[49m\u001b[43m(\u001b[49m\u001b[43mkey\u001b[49m\u001b[43m)\u001b[49m\n\u001b[1;32m   3506\u001b[0m \u001b[38;5;28;01mif\u001b[39;00m is_integer(indexer):\n\u001b[1;32m   3507\u001b[0m     indexer \u001b[38;5;241m=\u001b[39m [indexer]\n",
      "File \u001b[0;32m~/opt/anaconda3/lib/python3.9/site-packages/pandas/core/indexes/base.py:3623\u001b[0m, in \u001b[0;36mIndex.get_loc\u001b[0;34m(self, key, method, tolerance)\u001b[0m\n\u001b[1;32m   3621\u001b[0m     \u001b[38;5;28;01mreturn\u001b[39;00m \u001b[38;5;28mself\u001b[39m\u001b[38;5;241m.\u001b[39m_engine\u001b[38;5;241m.\u001b[39mget_loc(casted_key)\n\u001b[1;32m   3622\u001b[0m \u001b[38;5;28;01mexcept\u001b[39;00m \u001b[38;5;167;01mKeyError\u001b[39;00m \u001b[38;5;28;01mas\u001b[39;00m err:\n\u001b[0;32m-> 3623\u001b[0m     \u001b[38;5;28;01mraise\u001b[39;00m \u001b[38;5;167;01mKeyError\u001b[39;00m(key) \u001b[38;5;28;01mfrom\u001b[39;00m \u001b[38;5;21;01merr\u001b[39;00m\n\u001b[1;32m   3624\u001b[0m \u001b[38;5;28;01mexcept\u001b[39;00m \u001b[38;5;167;01mTypeError\u001b[39;00m:\n\u001b[1;32m   3625\u001b[0m     \u001b[38;5;66;03m# If we have a listlike key, _check_indexing_error will raise\u001b[39;00m\n\u001b[1;32m   3626\u001b[0m     \u001b[38;5;66;03m#  InvalidIndexError. Otherwise we fall through and re-raise\u001b[39;00m\n\u001b[1;32m   3627\u001b[0m     \u001b[38;5;66;03m#  the TypeError.\u001b[39;00m\n\u001b[1;32m   3628\u001b[0m     \u001b[38;5;28mself\u001b[39m\u001b[38;5;241m.\u001b[39m_check_indexing_error(key)\n",
      "\u001b[0;31mKeyError\u001b[0m: 'Fo'"
     ]
    },
    {
     "data": {
      "image/png": "[encoded data removed]",
      "text/plain": [
       "<Figure size 432x360 with 1 Axes>"
      ]
     },
     "metadata": {
      "needs_background": "light"
     },
     "output_type": "display_data"
    }
   ],
   "source": [
    "fig, (ax1) = plt.subplots(1, 1, figsize=(6,5))\n",
    "\n",
    "\n",
    "ms=7\n",
    "ax1.errorbar(data['Fo'].loc[sam0], \n",
    "             MC_Av['SingleFI_D_km'].loc[sam0],\n",
    "             xerr=0, yerr=MC_Av['std_dev_MC_D_km'].loc[sam0],\n",
    "             fmt='o', ecolor='k', elinewidth=0.8, mfc='red', ms=ms, mec='k', capsize=5)\n",
    "ax1.errorbar(data['Fo'].loc[sam1], \n",
    "             MC_Av['SingleFI_D_km'].loc[sam1],\n",
    "             xerr=0, yerr=MC_Av['std_dev_MC_D_km'].loc[sam1],\n",
    "             fmt='^', ecolor='k', elinewidth=0.8, mfc='green', ms=ms, mec='k', capsize=5)\n",
    "\n",
    "ax1.errorbar(data['Fo'].loc[sam4], \n",
    "             MC_Av['SingleFI_D_km'].loc[sam4],\n",
    "             xerr=0, yerr=MC_Av['std_dev_MC_D_km'].loc[sam4],\n",
    "             fmt='v', ecolor='k', elinewidth=0.8, mfc='blue', ms=ms, mec='k', capsize=5)\n",
    "ax1.errorbar(data['Fo'].loc[sam6], \n",
    "             MC_Av['SingleFI_D_km'].loc[sam6],\n",
    "             xerr=0, yerr=MC_Av['std_dev_MC_D_km'].loc[sam6],\n",
    "             fmt='s', ecolor='k', elinewidth=0.8, mfc='orange', ms=ms, mec='k', capsize=5)\n",
    "ax1.set_xlabel('Fo content')\n",
    "ax1.set_ylabel('Depth (km)')\n",
    "ax1.invert_yaxis()\n",
    "ax2=ax1.twinx()\n",
    "ax2.invert_yaxis()\n",
    "# This sets the range of pressures you want\n",
    "Plim1=3.8\n",
    "Plim2=8.1\n",
    "ax2.set_ylim([Plim2, Plim1])\n",
    "# This calculates the corresponding depths for those pressures. \n",
    "D_Plim1=pf.convert_pressure_depth_2step(P_kbar=Plim1, d1=14, rho1=2800, rho2=3100, g=9.81)\n",
    "D_Plim2=pf.convert_pressure_depth_2step(P_kbar=Plim2, d1=14, rho1=2800, rho2=3100, g=9.81)\n",
    "ax1.set_ylim([D_Plim2, D_Plim1])\n",
    "ax2.set_ylabel('Pressure (kbar)')"
   ]
  },
  {
   "cell_type": "code",
   "execution_count": 27,
   "id": "4cbc0dbb-a552-467c-9727-833443360c67",
   "metadata": {},
   "outputs": [],
   "source": [
    "# Save results to excel\n",
    "MC_Av.to_clipboard(excel=True)"
   ]
  },
  {
   "cell_type": "markdown",
   "id": "89ff7c8d-dcaf-465b-ae9c-1c04cd994312",
   "metadata": {},
   "source": [
    "## Complex double axis aligning\n",
    "- The plot above was relatively easy, because we were always working below the density transition from layer 1 to layer 2\n",
    "- What if we want to duplicate the axis spanning our multi-step profile?"
   ]
  },
  {
   "cell_type": "markdown",
   "id": "88292eb6-2944-43b8-9fe6-e775f53fd9b8",
   "metadata": {},
   "source": [
    "## Lets use a linspace of pressure first"
   ]
  },
  {
   "cell_type": "code",
   "execution_count": 28,
   "id": "bcafaf4b-4799-47a2-8399-c9987224a5a7",
   "metadata": {},
   "outputs": [
    {
     "data": {
      "text/plain": [
       "array([ 0.,  1.,  2.,  3.,  4.,  5.,  6.,  7.,  8.,  9., 10.])"
      ]
     },
     "execution_count": 28,
     "metadata": {},
     "output_type": "execute_result"
    }
   ],
   "source": [
    "P_lin=np.linspace(0, 10, 11)\n",
    "P_lin"
   ]
  },
  {
   "cell_type": "code",
   "execution_count": 29,
   "id": "d8dde9cf-7cc4-45ee-ac5b-61041eafc4cd",
   "metadata": {},
   "outputs": [],
   "source": [
    "D_lin=pf.convert_pressure_to_depth(P_kbar=P_lin, model='two-step', d1=14, rho1=2800, rho2=3100, g=9.81)"
   ]
  },
  {
   "cell_type": "code",
   "execution_count": 30,
   "id": "076ae7d4-facf-4008-8daf-2ccc1acd22c5",
   "metadata": {},
   "outputs": [
    {
     "data": {
      "text/plain": [
       "array([ 0.        ,  3.64059997,  7.28119994, 10.92179991, 14.50797409,\n",
       "       17.79625793, 21.08454178, 24.37282562, 27.66110947, 30.94939331,\n",
       "       34.23767716])"
      ]
     },
     "execution_count": 30,
     "metadata": {},
     "output_type": "execute_result"
    }
   ],
   "source": [
    "np.array(D_lin)"
   ]
  },
  {
   "cell_type": "markdown",
   "id": "4cf8906f-d10b-484f-b7eb-aa967c4344ac",
   "metadata": {},
   "source": [
    "## Lets calculate depths for that linspace"
   ]
  },
  {
   "cell_type": "code",
   "execution_count": 31,
   "id": "7ae4057b-0152-45c7-b21a-7790cd246c16",
   "metadata": {},
   "outputs": [
    {
     "ename": "KeyError",
     "evalue": "'Fo'",
     "output_type": "error",
     "traceback": [
      "\u001b[0;31m---------------------------------------------------------------------------\u001b[0m",
      "\u001b[0;31mKeyError\u001b[0m                                  Traceback (most recent call last)",
      "File \u001b[0;32m~/opt/anaconda3/lib/python3.9/site-packages/pandas/core/indexes/base.py:3621\u001b[0m, in \u001b[0;36mIndex.get_loc\u001b[0;34m(self, key, method, tolerance)\u001b[0m\n\u001b[1;32m   3620\u001b[0m \u001b[38;5;28;01mtry\u001b[39;00m:\n\u001b[0;32m-> 3621\u001b[0m     \u001b[38;5;28;01mreturn\u001b[39;00m \u001b[38;5;28;43mself\u001b[39;49m\u001b[38;5;241;43m.\u001b[39;49m\u001b[43m_engine\u001b[49m\u001b[38;5;241;43m.\u001b[39;49m\u001b[43mget_loc\u001b[49m\u001b[43m(\u001b[49m\u001b[43mcasted_key\u001b[49m\u001b[43m)\u001b[49m\n\u001b[1;32m   3622\u001b[0m \u001b[38;5;28;01mexcept\u001b[39;00m \u001b[38;5;167;01mKeyError\u001b[39;00m \u001b[38;5;28;01mas\u001b[39;00m err:\n",
      "File \u001b[0;32m~/opt/anaconda3/lib/python3.9/site-packages/pandas/_libs/index.pyx:136\u001b[0m, in \u001b[0;36mpandas._libs.index.IndexEngine.get_loc\u001b[0;34m()\u001b[0m\n",
      "File \u001b[0;32m~/opt/anaconda3/lib/python3.9/site-packages/pandas/_libs/index.pyx:163\u001b[0m, in \u001b[0;36mpandas._libs.index.IndexEngine.get_loc\u001b[0;34m()\u001b[0m\n",
      "File \u001b[0;32mpandas/_libs/hashtable_class_helper.pxi:5198\u001b[0m, in \u001b[0;36mpandas._libs.hashtable.PyObjectHashTable.get_item\u001b[0;34m()\u001b[0m\n",
      "File \u001b[0;32mpandas/_libs/hashtable_class_helper.pxi:5206\u001b[0m, in \u001b[0;36mpandas._libs.hashtable.PyObjectHashTable.get_item\u001b[0;34m()\u001b[0m\n",
      "\u001b[0;31mKeyError\u001b[0m: 'Fo'",
      "\nThe above exception was the direct cause of the following exception:\n",
      "\u001b[0;31mKeyError\u001b[0m                                  Traceback (most recent call last)",
      "Input \u001b[0;32mIn [31]\u001b[0m, in \u001b[0;36m<cell line: 6>\u001b[0;34m()\u001b[0m\n\u001b[1;32m      2\u001b[0m fig, (ax1) \u001b[38;5;241m=\u001b[39m plt\u001b[38;5;241m.\u001b[39msubplots(\u001b[38;5;241m1\u001b[39m, \u001b[38;5;241m1\u001b[39m, figsize\u001b[38;5;241m=\u001b[39m(\u001b[38;5;241m6\u001b[39m,\u001b[38;5;241m5\u001b[39m))\n\u001b[1;32m      5\u001b[0m ms\u001b[38;5;241m=\u001b[39m\u001b[38;5;241m7\u001b[39m\n\u001b[0;32m----> 6\u001b[0m ax1\u001b[38;5;241m.\u001b[39merrorbar(\u001b[43mdata\u001b[49m\u001b[43m[\u001b[49m\u001b[38;5;124;43m'\u001b[39;49m\u001b[38;5;124;43mFo\u001b[39;49m\u001b[38;5;124;43m'\u001b[39;49m\u001b[43m]\u001b[49m\u001b[38;5;241m.\u001b[39mloc[sam0], \n\u001b[1;32m      7\u001b[0m              MC_Av[\u001b[38;5;124m'\u001b[39m\u001b[38;5;124mSingleFI_D_km\u001b[39m\u001b[38;5;124m'\u001b[39m]\u001b[38;5;241m.\u001b[39mloc[sam0],\n\u001b[1;32m      8\u001b[0m              xerr\u001b[38;5;241m=\u001b[39m\u001b[38;5;241m0\u001b[39m, yerr\u001b[38;5;241m=\u001b[39mMC_Av[\u001b[38;5;124m'\u001b[39m\u001b[38;5;124mstd_dev_MC_D_km\u001b[39m\u001b[38;5;124m'\u001b[39m]\u001b[38;5;241m.\u001b[39mloc[sam0],\n\u001b[1;32m      9\u001b[0m              fmt\u001b[38;5;241m=\u001b[39m\u001b[38;5;124m'\u001b[39m\u001b[38;5;124mo\u001b[39m\u001b[38;5;124m'\u001b[39m, ecolor\u001b[38;5;241m=\u001b[39m\u001b[38;5;124m'\u001b[39m\u001b[38;5;124mk\u001b[39m\u001b[38;5;124m'\u001b[39m, elinewidth\u001b[38;5;241m=\u001b[39m\u001b[38;5;241m0.8\u001b[39m, mfc\u001b[38;5;241m=\u001b[39m\u001b[38;5;124m'\u001b[39m\u001b[38;5;124mred\u001b[39m\u001b[38;5;124m'\u001b[39m, ms\u001b[38;5;241m=\u001b[39mms, mec\u001b[38;5;241m=\u001b[39m\u001b[38;5;124m'\u001b[39m\u001b[38;5;124mk\u001b[39m\u001b[38;5;124m'\u001b[39m, capsize\u001b[38;5;241m=\u001b[39m\u001b[38;5;241m5\u001b[39m)\n\u001b[1;32m     10\u001b[0m ax1\u001b[38;5;241m.\u001b[39merrorbar(data[\u001b[38;5;124m'\u001b[39m\u001b[38;5;124mFo\u001b[39m\u001b[38;5;124m'\u001b[39m]\u001b[38;5;241m.\u001b[39mloc[sam1], \n\u001b[1;32m     11\u001b[0m              MC_Av[\u001b[38;5;124m'\u001b[39m\u001b[38;5;124mSingleFI_D_km\u001b[39m\u001b[38;5;124m'\u001b[39m]\u001b[38;5;241m.\u001b[39mloc[sam1],\n\u001b[1;32m     12\u001b[0m              xerr\u001b[38;5;241m=\u001b[39m\u001b[38;5;241m0\u001b[39m, yerr\u001b[38;5;241m=\u001b[39mMC_Av[\u001b[38;5;124m'\u001b[39m\u001b[38;5;124mstd_dev_MC_D_km\u001b[39m\u001b[38;5;124m'\u001b[39m]\u001b[38;5;241m.\u001b[39mloc[sam1],\n\u001b[1;32m     13\u001b[0m              fmt\u001b[38;5;241m=\u001b[39m\u001b[38;5;124m'\u001b[39m\u001b[38;5;124m^\u001b[39m\u001b[38;5;124m'\u001b[39m, ecolor\u001b[38;5;241m=\u001b[39m\u001b[38;5;124m'\u001b[39m\u001b[38;5;124mk\u001b[39m\u001b[38;5;124m'\u001b[39m, elinewidth\u001b[38;5;241m=\u001b[39m\u001b[38;5;241m0.8\u001b[39m, mfc\u001b[38;5;241m=\u001b[39m\u001b[38;5;124m'\u001b[39m\u001b[38;5;124mgreen\u001b[39m\u001b[38;5;124m'\u001b[39m, ms\u001b[38;5;241m=\u001b[39mms, mec\u001b[38;5;241m=\u001b[39m\u001b[38;5;124m'\u001b[39m\u001b[38;5;124mk\u001b[39m\u001b[38;5;124m'\u001b[39m, capsize\u001b[38;5;241m=\u001b[39m\u001b[38;5;241m5\u001b[39m)\n\u001b[1;32m     15\u001b[0m ax1\u001b[38;5;241m.\u001b[39merrorbar(data[\u001b[38;5;124m'\u001b[39m\u001b[38;5;124mFo\u001b[39m\u001b[38;5;124m'\u001b[39m]\u001b[38;5;241m.\u001b[39mloc[sam4], \n\u001b[1;32m     16\u001b[0m              MC_Av[\u001b[38;5;124m'\u001b[39m\u001b[38;5;124mSingleFI_D_km\u001b[39m\u001b[38;5;124m'\u001b[39m]\u001b[38;5;241m.\u001b[39mloc[sam4],\n\u001b[1;32m     17\u001b[0m              xerr\u001b[38;5;241m=\u001b[39m\u001b[38;5;241m0\u001b[39m, yerr\u001b[38;5;241m=\u001b[39mMC_Av[\u001b[38;5;124m'\u001b[39m\u001b[38;5;124mstd_dev_MC_D_km\u001b[39m\u001b[38;5;124m'\u001b[39m]\u001b[38;5;241m.\u001b[39mloc[sam4],\n\u001b[1;32m     18\u001b[0m              fmt\u001b[38;5;241m=\u001b[39m\u001b[38;5;124m'\u001b[39m\u001b[38;5;124mv\u001b[39m\u001b[38;5;124m'\u001b[39m, ecolor\u001b[38;5;241m=\u001b[39m\u001b[38;5;124m'\u001b[39m\u001b[38;5;124mk\u001b[39m\u001b[38;5;124m'\u001b[39m, elinewidth\u001b[38;5;241m=\u001b[39m\u001b[38;5;241m0.8\u001b[39m, mfc\u001b[38;5;241m=\u001b[39m\u001b[38;5;124m'\u001b[39m\u001b[38;5;124mblue\u001b[39m\u001b[38;5;124m'\u001b[39m, ms\u001b[38;5;241m=\u001b[39mms, mec\u001b[38;5;241m=\u001b[39m\u001b[38;5;124m'\u001b[39m\u001b[38;5;124mk\u001b[39m\u001b[38;5;124m'\u001b[39m, capsize\u001b[38;5;241m=\u001b[39m\u001b[38;5;241m5\u001b[39m)\n",
      "File \u001b[0;32m~/opt/anaconda3/lib/python3.9/site-packages/pandas/core/frame.py:3505\u001b[0m, in \u001b[0;36mDataFrame.__getitem__\u001b[0;34m(self, key)\u001b[0m\n\u001b[1;32m   3503\u001b[0m \u001b[38;5;28;01mif\u001b[39;00m \u001b[38;5;28mself\u001b[39m\u001b[38;5;241m.\u001b[39mcolumns\u001b[38;5;241m.\u001b[39mnlevels \u001b[38;5;241m>\u001b[39m \u001b[38;5;241m1\u001b[39m:\n\u001b[1;32m   3504\u001b[0m     \u001b[38;5;28;01mreturn\u001b[39;00m \u001b[38;5;28mself\u001b[39m\u001b[38;5;241m.\u001b[39m_getitem_multilevel(key)\n\u001b[0;32m-> 3505\u001b[0m indexer \u001b[38;5;241m=\u001b[39m \u001b[38;5;28;43mself\u001b[39;49m\u001b[38;5;241;43m.\u001b[39;49m\u001b[43mcolumns\u001b[49m\u001b[38;5;241;43m.\u001b[39;49m\u001b[43mget_loc\u001b[49m\u001b[43m(\u001b[49m\u001b[43mkey\u001b[49m\u001b[43m)\u001b[49m\n\u001b[1;32m   3506\u001b[0m \u001b[38;5;28;01mif\u001b[39;00m is_integer(indexer):\n\u001b[1;32m   3507\u001b[0m     indexer \u001b[38;5;241m=\u001b[39m [indexer]\n",
      "File \u001b[0;32m~/opt/anaconda3/lib/python3.9/site-packages/pandas/core/indexes/base.py:3623\u001b[0m, in \u001b[0;36mIndex.get_loc\u001b[0;34m(self, key, method, tolerance)\u001b[0m\n\u001b[1;32m   3621\u001b[0m     \u001b[38;5;28;01mreturn\u001b[39;00m \u001b[38;5;28mself\u001b[39m\u001b[38;5;241m.\u001b[39m_engine\u001b[38;5;241m.\u001b[39mget_loc(casted_key)\n\u001b[1;32m   3622\u001b[0m \u001b[38;5;28;01mexcept\u001b[39;00m \u001b[38;5;167;01mKeyError\u001b[39;00m \u001b[38;5;28;01mas\u001b[39;00m err:\n\u001b[0;32m-> 3623\u001b[0m     \u001b[38;5;28;01mraise\u001b[39;00m \u001b[38;5;167;01mKeyError\u001b[39;00m(key) \u001b[38;5;28;01mfrom\u001b[39;00m \u001b[38;5;21;01merr\u001b[39;00m\n\u001b[1;32m   3624\u001b[0m \u001b[38;5;28;01mexcept\u001b[39;00m \u001b[38;5;167;01mTypeError\u001b[39;00m:\n\u001b[1;32m   3625\u001b[0m     \u001b[38;5;66;03m# If we have a listlike key, _check_indexing_error will raise\u001b[39;00m\n\u001b[1;32m   3626\u001b[0m     \u001b[38;5;66;03m#  InvalidIndexError. Otherwise we fall through and re-raise\u001b[39;00m\n\u001b[1;32m   3627\u001b[0m     \u001b[38;5;66;03m#  the TypeError.\u001b[39;00m\n\u001b[1;32m   3628\u001b[0m     \u001b[38;5;28mself\u001b[39m\u001b[38;5;241m.\u001b[39m_check_indexing_error(key)\n",
      "\u001b[0;31mKeyError\u001b[0m: 'Fo'"
     ]
    },
    {
     "data": {
      "image/png": "[encoded data removed]",
      "text/plain": [
       "<Figure size 432x360 with 1 Axes>"
      ]
     },
     "metadata": {
      "needs_background": "light"
     },
     "output_type": "display_data"
    }
   ],
   "source": [
    "import matplotlib.ticker as ticker\n",
    "fig, (ax1) = plt.subplots(1, 1, figsize=(6,5))\n",
    "\n",
    "\n",
    "ms=7\n",
    "ax1.errorbar(data['Fo'].loc[sam0], \n",
    "             MC_Av['SingleFI_D_km'].loc[sam0],\n",
    "             xerr=0, yerr=MC_Av['std_dev_MC_D_km'].loc[sam0],\n",
    "             fmt='o', ecolor='k', elinewidth=0.8, mfc='red', ms=ms, mec='k', capsize=5)\n",
    "ax1.errorbar(data['Fo'].loc[sam1], \n",
    "             MC_Av['SingleFI_D_km'].loc[sam1],\n",
    "             xerr=0, yerr=MC_Av['std_dev_MC_D_km'].loc[sam1],\n",
    "             fmt='^', ecolor='k', elinewidth=0.8, mfc='green', ms=ms, mec='k', capsize=5)\n",
    "\n",
    "ax1.errorbar(data['Fo'].loc[sam4], \n",
    "             MC_Av['SingleFI_D_km'].loc[sam4],\n",
    "             xerr=0, yerr=MC_Av['std_dev_MC_D_km'].loc[sam4],\n",
    "             fmt='v', ecolor='k', elinewidth=0.8, mfc='blue', ms=ms, mec='k', capsize=5)\n",
    "ax1.errorbar(data['Fo'].loc[sam6], \n",
    "             MC_Av['SingleFI_D_km'].loc[sam6],\n",
    "             xerr=0, yerr=MC_Av['std_dev_MC_D_km'].loc[sam6],\n",
    "             fmt='s', ecolor='k', elinewidth=0.8, mfc='orange', ms=ms, mec='k', capsize=5)\n",
    "ax1.set_xlabel('Fo content')\n",
    "ax1.set_ylabel('Depth (km)')\n",
    "ax2=ax1.twinx()\n",
    "\n",
    "\n",
    "\n",
    "# First, get the limits right\n",
    "ax1.set_ylim([np.max(D_lin), np.min(D_lin)])\n",
    "ax2.set_ylim([np.max(P_lin), np.min(P_lin)])\n",
    "\n",
    "# Now set the ticks - For Pressure, its easy, its the ticks we expected\n",
    "ax2.set_yticks(P_lin)\n",
    "# For depth, its more complex, as they wont be integers. \n",
    "ax1.set_yticks(D_lin)\n",
    "\n",
    "ax2.set_ylabel('ax2 Pressure (kbar)')"
   ]
  },
  {
   "cell_type": "code",
   "execution_count": 32,
   "id": "c05feb57-7905-4414-bb42-006122f76445",
   "metadata": {},
   "outputs": [
    {
     "ename": "KeyError",
     "evalue": "'Fo'",
     "output_type": "error",
     "traceback": [
      "\u001b[0;31m---------------------------------------------------------------------------\u001b[0m",
      "\u001b[0;31mKeyError\u001b[0m                                  Traceback (most recent call last)",
      "File \u001b[0;32m~/opt/anaconda3/lib/python3.9/site-packages/pandas/core/indexes/base.py:3621\u001b[0m, in \u001b[0;36mIndex.get_loc\u001b[0;34m(self, key, method, tolerance)\u001b[0m\n\u001b[1;32m   3620\u001b[0m \u001b[38;5;28;01mtry\u001b[39;00m:\n\u001b[0;32m-> 3621\u001b[0m     \u001b[38;5;28;01mreturn\u001b[39;00m \u001b[38;5;28;43mself\u001b[39;49m\u001b[38;5;241;43m.\u001b[39;49m\u001b[43m_engine\u001b[49m\u001b[38;5;241;43m.\u001b[39;49m\u001b[43mget_loc\u001b[49m\u001b[43m(\u001b[49m\u001b[43mcasted_key\u001b[49m\u001b[43m)\u001b[49m\n\u001b[1;32m   3622\u001b[0m \u001b[38;5;28;01mexcept\u001b[39;00m \u001b[38;5;167;01mKeyError\u001b[39;00m \u001b[38;5;28;01mas\u001b[39;00m err:\n",
      "File \u001b[0;32m~/opt/anaconda3/lib/python3.9/site-packages/pandas/_libs/index.pyx:136\u001b[0m, in \u001b[0;36mpandas._libs.index.IndexEngine.get_loc\u001b[0;34m()\u001b[0m\n",
      "File \u001b[0;32m~/opt/anaconda3/lib/python3.9/site-packages/pandas/_libs/index.pyx:163\u001b[0m, in \u001b[0;36mpandas._libs.index.IndexEngine.get_loc\u001b[0;34m()\u001b[0m\n",
      "File \u001b[0;32mpandas/_libs/hashtable_class_helper.pxi:5198\u001b[0m, in \u001b[0;36mpandas._libs.hashtable.PyObjectHashTable.get_item\u001b[0;34m()\u001b[0m\n",
      "File \u001b[0;32mpandas/_libs/hashtable_class_helper.pxi:5206\u001b[0m, in \u001b[0;36mpandas._libs.hashtable.PyObjectHashTable.get_item\u001b[0;34m()\u001b[0m\n",
      "\u001b[0;31mKeyError\u001b[0m: 'Fo'",
      "\nThe above exception was the direct cause of the following exception:\n",
      "\u001b[0;31mKeyError\u001b[0m                                  Traceback (most recent call last)",
      "Input \u001b[0;32mIn [32]\u001b[0m, in \u001b[0;36m<cell line: 6>\u001b[0;34m()\u001b[0m\n\u001b[1;32m      2\u001b[0m fig, (ax1) \u001b[38;5;241m=\u001b[39m plt\u001b[38;5;241m.\u001b[39msubplots(\u001b[38;5;241m1\u001b[39m, \u001b[38;5;241m1\u001b[39m, figsize\u001b[38;5;241m=\u001b[39m(\u001b[38;5;241m6\u001b[39m,\u001b[38;5;241m5\u001b[39m))\n\u001b[1;32m      5\u001b[0m ms\u001b[38;5;241m=\u001b[39m\u001b[38;5;241m7\u001b[39m\n\u001b[0;32m----> 6\u001b[0m ax1\u001b[38;5;241m.\u001b[39merrorbar(\u001b[43mdata\u001b[49m\u001b[43m[\u001b[49m\u001b[38;5;124;43m'\u001b[39;49m\u001b[38;5;124;43mFo\u001b[39;49m\u001b[38;5;124;43m'\u001b[39;49m\u001b[43m]\u001b[49m\u001b[38;5;241m.\u001b[39mloc[sam0], \n\u001b[1;32m      7\u001b[0m              MC_Av[\u001b[38;5;124m'\u001b[39m\u001b[38;5;124mSingleFI_D_km\u001b[39m\u001b[38;5;124m'\u001b[39m]\u001b[38;5;241m.\u001b[39mloc[sam0],\n\u001b[1;32m      8\u001b[0m              xerr\u001b[38;5;241m=\u001b[39m\u001b[38;5;241m0\u001b[39m, yerr\u001b[38;5;241m=\u001b[39mMC_Av[\u001b[38;5;124m'\u001b[39m\u001b[38;5;124mstd_dev_MC_D_km\u001b[39m\u001b[38;5;124m'\u001b[39m]\u001b[38;5;241m.\u001b[39mloc[sam0],\n\u001b[1;32m      9\u001b[0m              fmt\u001b[38;5;241m=\u001b[39m\u001b[38;5;124m'\u001b[39m\u001b[38;5;124mo\u001b[39m\u001b[38;5;124m'\u001b[39m, ecolor\u001b[38;5;241m=\u001b[39m\u001b[38;5;124m'\u001b[39m\u001b[38;5;124mk\u001b[39m\u001b[38;5;124m'\u001b[39m, elinewidth\u001b[38;5;241m=\u001b[39m\u001b[38;5;241m0.8\u001b[39m, mfc\u001b[38;5;241m=\u001b[39m\u001b[38;5;124m'\u001b[39m\u001b[38;5;124mred\u001b[39m\u001b[38;5;124m'\u001b[39m, ms\u001b[38;5;241m=\u001b[39mms, mec\u001b[38;5;241m=\u001b[39m\u001b[38;5;124m'\u001b[39m\u001b[38;5;124mk\u001b[39m\u001b[38;5;124m'\u001b[39m, capsize\u001b[38;5;241m=\u001b[39m\u001b[38;5;241m5\u001b[39m)\n\u001b[1;32m     10\u001b[0m ax1\u001b[38;5;241m.\u001b[39merrorbar(data[\u001b[38;5;124m'\u001b[39m\u001b[38;5;124mFo\u001b[39m\u001b[38;5;124m'\u001b[39m]\u001b[38;5;241m.\u001b[39mloc[sam1], \n\u001b[1;32m     11\u001b[0m              MC_Av[\u001b[38;5;124m'\u001b[39m\u001b[38;5;124mSingleFI_D_km\u001b[39m\u001b[38;5;124m'\u001b[39m]\u001b[38;5;241m.\u001b[39mloc[sam1],\n\u001b[1;32m     12\u001b[0m              xerr\u001b[38;5;241m=\u001b[39m\u001b[38;5;241m0\u001b[39m, yerr\u001b[38;5;241m=\u001b[39mMC_Av[\u001b[38;5;124m'\u001b[39m\u001b[38;5;124mstd_dev_MC_D_km\u001b[39m\u001b[38;5;124m'\u001b[39m]\u001b[38;5;241m.\u001b[39mloc[sam1],\n\u001b[1;32m     13\u001b[0m              fmt\u001b[38;5;241m=\u001b[39m\u001b[38;5;124m'\u001b[39m\u001b[38;5;124m^\u001b[39m\u001b[38;5;124m'\u001b[39m, ecolor\u001b[38;5;241m=\u001b[39m\u001b[38;5;124m'\u001b[39m\u001b[38;5;124mk\u001b[39m\u001b[38;5;124m'\u001b[39m, elinewidth\u001b[38;5;241m=\u001b[39m\u001b[38;5;241m0.8\u001b[39m, mfc\u001b[38;5;241m=\u001b[39m\u001b[38;5;124m'\u001b[39m\u001b[38;5;124mgreen\u001b[39m\u001b[38;5;124m'\u001b[39m, ms\u001b[38;5;241m=\u001b[39mms, mec\u001b[38;5;241m=\u001b[39m\u001b[38;5;124m'\u001b[39m\u001b[38;5;124mk\u001b[39m\u001b[38;5;124m'\u001b[39m, capsize\u001b[38;5;241m=\u001b[39m\u001b[38;5;241m5\u001b[39m)\n\u001b[1;32m     15\u001b[0m ax1\u001b[38;5;241m.\u001b[39merrorbar(data[\u001b[38;5;124m'\u001b[39m\u001b[38;5;124mFo\u001b[39m\u001b[38;5;124m'\u001b[39m]\u001b[38;5;241m.\u001b[39mloc[sam4], \n\u001b[1;32m     16\u001b[0m              MC_Av[\u001b[38;5;124m'\u001b[39m\u001b[38;5;124mSingleFI_D_km\u001b[39m\u001b[38;5;124m'\u001b[39m]\u001b[38;5;241m.\u001b[39mloc[sam4],\n\u001b[1;32m     17\u001b[0m              xerr\u001b[38;5;241m=\u001b[39m\u001b[38;5;241m0\u001b[39m, yerr\u001b[38;5;241m=\u001b[39mMC_Av[\u001b[38;5;124m'\u001b[39m\u001b[38;5;124mstd_dev_MC_D_km\u001b[39m\u001b[38;5;124m'\u001b[39m]\u001b[38;5;241m.\u001b[39mloc[sam4],\n\u001b[1;32m     18\u001b[0m              fmt\u001b[38;5;241m=\u001b[39m\u001b[38;5;124m'\u001b[39m\u001b[38;5;124mv\u001b[39m\u001b[38;5;124m'\u001b[39m, ecolor\u001b[38;5;241m=\u001b[39m\u001b[38;5;124m'\u001b[39m\u001b[38;5;124mk\u001b[39m\u001b[38;5;124m'\u001b[39m, elinewidth\u001b[38;5;241m=\u001b[39m\u001b[38;5;241m0.8\u001b[39m, mfc\u001b[38;5;241m=\u001b[39m\u001b[38;5;124m'\u001b[39m\u001b[38;5;124mblue\u001b[39m\u001b[38;5;124m'\u001b[39m, ms\u001b[38;5;241m=\u001b[39mms, mec\u001b[38;5;241m=\u001b[39m\u001b[38;5;124m'\u001b[39m\u001b[38;5;124mk\u001b[39m\u001b[38;5;124m'\u001b[39m, capsize\u001b[38;5;241m=\u001b[39m\u001b[38;5;241m5\u001b[39m)\n",
      "File \u001b[0;32m~/opt/anaconda3/lib/python3.9/site-packages/pandas/core/frame.py:3505\u001b[0m, in \u001b[0;36mDataFrame.__getitem__\u001b[0;34m(self, key)\u001b[0m\n\u001b[1;32m   3503\u001b[0m \u001b[38;5;28;01mif\u001b[39;00m \u001b[38;5;28mself\u001b[39m\u001b[38;5;241m.\u001b[39mcolumns\u001b[38;5;241m.\u001b[39mnlevels \u001b[38;5;241m>\u001b[39m \u001b[38;5;241m1\u001b[39m:\n\u001b[1;32m   3504\u001b[0m     \u001b[38;5;28;01mreturn\u001b[39;00m \u001b[38;5;28mself\u001b[39m\u001b[38;5;241m.\u001b[39m_getitem_multilevel(key)\n\u001b[0;32m-> 3505\u001b[0m indexer \u001b[38;5;241m=\u001b[39m \u001b[38;5;28;43mself\u001b[39;49m\u001b[38;5;241;43m.\u001b[39;49m\u001b[43mcolumns\u001b[49m\u001b[38;5;241;43m.\u001b[39;49m\u001b[43mget_loc\u001b[49m\u001b[43m(\u001b[49m\u001b[43mkey\u001b[49m\u001b[43m)\u001b[49m\n\u001b[1;32m   3506\u001b[0m \u001b[38;5;28;01mif\u001b[39;00m is_integer(indexer):\n\u001b[1;32m   3507\u001b[0m     indexer \u001b[38;5;241m=\u001b[39m [indexer]\n",
      "File \u001b[0;32m~/opt/anaconda3/lib/python3.9/site-packages/pandas/core/indexes/base.py:3623\u001b[0m, in \u001b[0;36mIndex.get_loc\u001b[0;34m(self, key, method, tolerance)\u001b[0m\n\u001b[1;32m   3621\u001b[0m     \u001b[38;5;28;01mreturn\u001b[39;00m \u001b[38;5;28mself\u001b[39m\u001b[38;5;241m.\u001b[39m_engine\u001b[38;5;241m.\u001b[39mget_loc(casted_key)\n\u001b[1;32m   3622\u001b[0m \u001b[38;5;28;01mexcept\u001b[39;00m \u001b[38;5;167;01mKeyError\u001b[39;00m \u001b[38;5;28;01mas\u001b[39;00m err:\n\u001b[0;32m-> 3623\u001b[0m     \u001b[38;5;28;01mraise\u001b[39;00m \u001b[38;5;167;01mKeyError\u001b[39;00m(key) \u001b[38;5;28;01mfrom\u001b[39;00m \u001b[38;5;21;01merr\u001b[39;00m\n\u001b[1;32m   3624\u001b[0m \u001b[38;5;28;01mexcept\u001b[39;00m \u001b[38;5;167;01mTypeError\u001b[39;00m:\n\u001b[1;32m   3625\u001b[0m     \u001b[38;5;66;03m# If we have a listlike key, _check_indexing_error will raise\u001b[39;00m\n\u001b[1;32m   3626\u001b[0m     \u001b[38;5;66;03m#  InvalidIndexError. Otherwise we fall through and re-raise\u001b[39;00m\n\u001b[1;32m   3627\u001b[0m     \u001b[38;5;66;03m#  the TypeError.\u001b[39;00m\n\u001b[1;32m   3628\u001b[0m     \u001b[38;5;28mself\u001b[39m\u001b[38;5;241m.\u001b[39m_check_indexing_error(key)\n",
      "\u001b[0;31mKeyError\u001b[0m: 'Fo'"
     ]
    },
    {
     "data": {
      "image/png": "[encoded data removed]",
      "text/plain": [
       "<Figure size 432x360 with 1 Axes>"
      ]
     },
     "metadata": {
      "needs_background": "light"
     },
     "output_type": "display_data"
    }
   ],
   "source": [
    "import matplotlib.ticker as ticker\n",
    "fig, (ax1) = plt.subplots(1, 1, figsize=(6,5))\n",
    "\n",
    "\n",
    "ms=7\n",
    "ax1.errorbar(data['Fo'].loc[sam0], \n",
    "             MC_Av['SingleFI_D_km'].loc[sam0],\n",
    "             xerr=0, yerr=MC_Av['std_dev_MC_D_km'].loc[sam0],\n",
    "             fmt='o', ecolor='k', elinewidth=0.8, mfc='red', ms=ms, mec='k', capsize=5)\n",
    "ax1.errorbar(data['Fo'].loc[sam1], \n",
    "             MC_Av['SingleFI_D_km'].loc[sam1],\n",
    "             xerr=0, yerr=MC_Av['std_dev_MC_D_km'].loc[sam1],\n",
    "             fmt='^', ecolor='k', elinewidth=0.8, mfc='green', ms=ms, mec='k', capsize=5)\n",
    "\n",
    "ax1.errorbar(data['Fo'].loc[sam4], \n",
    "             MC_Av['SingleFI_D_km'].loc[sam4],\n",
    "             xerr=0, yerr=MC_Av['std_dev_MC_D_km'].loc[sam4],\n",
    "             fmt='v', ecolor='k', elinewidth=0.8, mfc='blue', ms=ms, mec='k', capsize=5)\n",
    "ax1.errorbar(data['Fo'].loc[sam6], \n",
    "             MC_Av['SingleFI_D_km'].loc[sam6],\n",
    "             xerr=0, yerr=MC_Av['std_dev_MC_D_km'].loc[sam6],\n",
    "             fmt='s', ecolor='k', elinewidth=0.8, mfc='orange', ms=ms, mec='k', capsize=5)\n",
    "ax1.set_xlabel('Fo content')\n",
    "ax1.set_ylabel('Depth (km)')\n",
    "ax2=ax1.twinx()\n",
    "\n",
    "\n",
    "\n",
    "# First, get the limits right\n",
    "\n",
    "ax2.set_ylim([np.max(P_lin), np.min(P_lin)])\n",
    "\n",
    "# Now set the ticks - For Pressure, its easy, its the ticks we expected\n",
    "#ax2.set_yticks(P_lin)\n",
    "# For depth, its more complex, as they wont be integers. \n",
    "rounded_ticks = np.round(D_lin / 5) * 5\n",
    "\n",
    "ax1.set_yticklabels(rounded_ticks)\n",
    "ax1.set_yticks(rounded_ticks)\n",
    "ax1.set_ylim([np.max(D_lin), np.min(D_lin)])\n",
    "\n",
    "\n",
    "ax2.set_ylabel('ax2 Pressure (kbar)')"
   ]
  },
  {
   "cell_type": "code",
   "execution_count": null,
   "id": "56430453-e9e4-44ac-b471-01d8cbce7777",
   "metadata": {},
   "outputs": [],
   "source": []
  }
 ],
 "metadata": {
  "kernelspec": {
   "display_name": "Python 3 (ipykernel)",
   "language": "python",
   "name": "python3"
  },
  "language_info": {
   "codemirror_mode": {
    "name": "ipython",
    "version": 3
   },
   "file_extension": ".py",
   "mimetype": "text/x-python",
   "name": "python",
   "nbconvert_exporter": "python",
   "pygments_lexer": "ipython3",
   "version": "3.9.13"
  }
 },
 "nbformat": 4,
 "nbformat_minor": 5
}
