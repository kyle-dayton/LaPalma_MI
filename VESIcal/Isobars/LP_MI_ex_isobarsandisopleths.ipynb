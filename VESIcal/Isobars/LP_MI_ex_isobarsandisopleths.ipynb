{
 "cells": [
  {
   "cell_type": "markdown",
   "metadata": {},
   "source": [
    "# Calculating and plotting isobars and isopleths\n",
    "\n",
    "## Calculate isobars and isopleths\n",
    "In this example, we demonstrate how isobars (lines of constant pressure) and isopleths (lines of constant fluid composition) can be calculated for any one composition. A single melt composition can be extracted from a loaded excel file, or a composition can be enterred by hand an stored within a dictionary. Due to computational intensity, isobars and isopleths can only be computed for one sample composition at a time.\n",
    "\n",
    "Once a single composition is defined, conditions over which to calculate isobars and isopleths must be specified. The generated plot is isothermal, so only one temperature can be chosen. Isobars can be calculated for any number of pressures, passed as a list.\n",
    "\n",
    "The calculation is performed by iterating through possible concentrations of H$_2$O and CO$_2$ and calculating the equilibrium state for the system. The iteration begins at a fixed H$_2$O concentration, increasing the CO$_2$ concentration in steps of 0.1 wt% until a fluid phase is stable. The H$_2$O concentration is then increased by 0.5 wt% and CO$_2$ is again increased from 0 until a fluid phase is stable. This process is repeated for H$_2$O values ranging from 0–15 wt%. The H$_2$O and CO$_2$ concentrations from each system for which a fluid phase was found to be stable are saved and written to a pandas DataFrame, which is returned upon completion of the calculation.\n",
    "\n",
    "**Method structure:**<br>\n",
    ">*Only single-sample calculations.* `def calculate_isobars_and_isopleths(self, sample, temperature, pressure_list, isopleth_list, print_status=False).result`\n",
    "\n",
    "**Required inputs:**<br>\n",
    ">`sample`: The sample composition, as a dictionary with values in wt%\n",
    "\n",
    ">`temperature`: The temperature in $^{\\circ}$C. \n",
    "\n",
    ">`pressure_list`: A list of all pressures in bars at which to calculate isobars.\n",
    "\n",
    "**Optional inputs:**<br>\n",
    ">`isopleth_list`: The default value is None in which case only isobars will be calcualted. A list of all fluid composition values, in mole fraction H$_2$O (XH$_2$O$^{fluid}$), at which to calculate isopleths. Values can range from 0–1.\n",
    "\n",
    ">`print_status`: The default value is False. If set to `True`, the progress of the calculations will be printed to the terminal.\n",
    "\n",
    "**Calculated outputs:** \n",
    ">The function returns two pandas DataFrames: the first has isobar data, and the second has isopleth data. Columns in the isobar dataframe are 'Pressure', 'H2Omelt', and 'CO2melt', correpsonding to pressure in bars and dissolved H$_2$O and CO$_2$ in the liquid in wt%. Columns in the isopleth dataframe are 'XH2O_fl', 'H2O_liq', and 'CO2_liq', corresponding to XH$_2$O$^{fluid}$ and dissolved H$_2$O and CO$_2$ in the liquid in wt%."
   ]
  },
  {
   "cell_type": "code",
   "execution_count": 1,
   "metadata": {},
   "outputs": [],
   "source": [
    "import sys\n",
    "sys.path.insert(0, '../')\n",
    "\n",
    "import VESIcal as v\n",
    "import pandas as pd"
   ]
  },
  {
   "cell_type": "code",
   "execution_count": 2,
   "metadata": {},
   "outputs": [
    {
     "data": {
      "text/plain": [
       "'1.2.3'"
      ]
     },
     "execution_count": 2,
     "metadata": {},
     "output_type": "execute_result"
    }
   ],
   "source": [
    "v.__version__    "
   ]
  },
  {
   "cell_type": "markdown",
   "metadata": {},
   "source": [
    "### Import an Excel file and extract a single sample"
   ]
  },
  {
   "cell_type": "code",
   "execution_count": 3,
   "metadata": {},
   "outputs": [],
   "source": [
    "myfile = v.BatchFile('LP_MI_VESIcal_Degassing_LM6_G3_I4_PEC_Corrected.xlsx')\n",
    "SampleName = 'LM6 G3 MI4'\n",
    "extracted_bulk_comp = myfile.get_sample_composition('LM6 G3 MI4', asSampleClass=True)"
   ]
  },
  {
   "cell_type": "code",
   "execution_count": 4,
   "metadata": {},
   "outputs": [
    {
     "data": {
      "text/plain": [
       "<VESIcal.sample_class.Sample at 0x7f747fe4bdf0>"
      ]
     },
     "metadata": {},
     "output_type": "display_data"
    }
   ],
   "source": [
    "display(extracted_bulk_comp)"
   ]
  },
  {
   "cell_type": "markdown",
   "metadata": {},
   "source": [
    "### Do the calculation"
   ]
  },
  {
   "cell_type": "code",
   "execution_count": 19,
   "metadata": {
    "tags": []
   },
   "outputs": [
    {
     "name": "stdout",
     "output_type": "stream",
     "text": [
      "Calculating isobar at 4250 bars\n",
      " done.                                                                                                                           \n",
      "Done!\n"
     ]
    }
   ],
   "source": [
    "isobars, isopleths = v.calculate_isobars_and_isopleths(sample=extracted_bulk_comp, \n",
    "                                            temperature=1162.0,\n",
    "                                            #pressure_list=[10000.0, 9000.0, 8000.0, 7000.0, 6000.0, 5000.0, 4000.0, 3000.0, 2000.0, 1000.0, 500.0], \n",
    "                                            pressure_list=[4250],\n",
    "                                            print_status=True).result"
   ]
  },
  {
   "cell_type": "markdown",
   "metadata": {},
   "source": [
    "## Plot isobars and isopleths\n",
    "Once isobars and isopleths are calculated, they can be plotted in an H$_2$O versus CO$_2$ plot with one simple function call. The plot will be printed directly in the notebook or, if the code is run as script in a command line, the plot will appear it its own window, at which point it can be saved as an image file. The `plot_isobars_and_isopleths` function takes in a pandas DataFrame with calculated isobar and isopleth information (e.g., output from calculate_isobars_and_isopleths) and plots data as isobars (lines of constant pressure) and isopleths (lines of constant fluid composition). These lines represent the saturation pressures of the melt composition used to calculate the isobar and isopleth information. \n",
    "\n",
    "**Method structure:**<br>\n",
    ">*Only single-sample calculations.* `def plot_isobars_and_isopleths(self, isobars, isopleths)`\n",
    "\n",
    "**Required inputs:**<br>\n",
    ">`isobars`: Pandas DataFrame object containing isobar information as calculated by calculate_isobars_and_isopleths.\n",
    "\n",
    ">`isopleths`: Pandas DataFrame object containing isopleth information as calculated by calculate_isobars_and_isopleths.\n",
    "\n",
    "**Calculated outputs:** \n",
    ">The function returns a matplotlib object with the x-axis as H2O wt% in the melt and y-axis as CO2 wt% in the melt. Isobars, or lines of constant pressure at which the sample magma composition is saturated, and isopleths, or lines of constant fluid composition at which the sample magma composition is saturated, are plotted."
   ]
  },
  {
   "cell_type": "markdown",
   "metadata": {},
   "source": [
    "### Plot your data"
   ]
  },
  {
   "cell_type": "code",
   "execution_count": 20,
   "metadata": {},
   "outputs": [
    {
     "data": {
      "text/plain": [
       "(    Pressure   H2O_liq   CO2_liq\n",
       " 0       4250  0.000000  0.458845\n",
       " 1       4250  0.141107  0.468016\n",
       " 2       4250  0.282214  0.476273\n",
       " 3       4250  0.423320  0.483625\n",
       " 4       4250  0.564427  0.490081\n",
       " 5       4250  0.705534  0.495652\n",
       " 6       4250  0.846641  0.500344\n",
       " 7       4250  0.987747  0.504169\n",
       " 8       4250  1.128854  0.507133\n",
       " 9       4250  1.269961  0.509248\n",
       " 10      4250  1.411068  0.510521\n",
       " 11      4250  1.552174  0.510962\n",
       " 12      4250  1.693281  0.510580\n",
       " 13      4250  1.834388  0.509383\n",
       " 14      4250  1.975495  0.507382\n",
       " 15      4250  2.116601  0.504584\n",
       " 16      4250  2.257708  0.500999\n",
       " 17      4250  2.398815  0.496637\n",
       " 18      4250  2.539922  0.491505\n",
       " 19      4250  2.681028  0.485613\n",
       " 20      4250  2.822135  0.478970\n",
       " 21      4250  2.963242  0.471586\n",
       " 22      4250  3.104349  0.463469\n",
       " 23      4250  3.245455  0.454628\n",
       " 24      4250  3.386562  0.445072\n",
       " 25      4250  3.527669  0.434811\n",
       " 26      4250  3.668776  0.423852\n",
       " 27      4250  3.809882  0.412207\n",
       " 28      4250  3.950989  0.399883\n",
       " 29      4250  4.092096  0.386889\n",
       " 30      4250  4.233203  0.373235\n",
       " 31      4250  4.374309  0.358929\n",
       " 32      4250  4.515416  0.343981\n",
       " 33      4250  4.656523  0.328399\n",
       " 34      4250  4.797630  0.312194\n",
       " 35      4250  4.938736  0.295373\n",
       " 36      4250  5.079843  0.277946\n",
       " 37      4250  5.220950  0.259921\n",
       " 38      4250  5.362057  0.241309\n",
       " 39      4250  5.503163  0.222117\n",
       " 40      4250  5.644270  0.202355\n",
       " 41      4250  5.785377  0.182033\n",
       " 42      4250  5.926484  0.161158\n",
       " 43      4250  6.067590  0.139740\n",
       " 44      4250  6.208697  0.117789\n",
       " 45      4250  6.349804  0.095312\n",
       " 46      4250  6.490911  0.072320\n",
       " 47      4250  6.632017  0.048821\n",
       " 48      4250  6.773124  0.024825\n",
       " 49      4250  6.914231  0.000339,\n",
       "     XH2O_fl   H2O_liq   CO2_liq\n",
       " 0         0  0.000000  0.000000\n",
       " 1         0  0.000000  0.458625\n",
       " 2         1  0.000000  0.000000\n",
       " 3         1  0.141107  0.000000\n",
       " 4         1  0.282214  0.000000\n",
       " 5         1  0.423320  0.000000\n",
       " 6         1  0.564427  0.000000\n",
       " 7         1  0.705534  0.000000\n",
       " 8         1  0.846641  0.000000\n",
       " 9         1  0.987747  0.000000\n",
       " 10        1  1.128854  0.000000\n",
       " 11        1  1.269961  0.000000\n",
       " 12        1  1.411068  0.000000\n",
       " 13        1  1.552174  0.000000\n",
       " 14        1  1.693281  0.000000\n",
       " 15        1  1.834388  0.000000\n",
       " 16        1  1.975495  0.000000\n",
       " 17        1  2.116601  0.000000\n",
       " 18        1  2.257708  0.000000\n",
       " 19        1  2.398815  0.000000\n",
       " 20        1  2.539922  0.000000\n",
       " 21        1  2.681028  0.000000\n",
       " 22        1  2.822135  0.000000\n",
       " 23        1  2.963242  0.000000\n",
       " 24        1  3.104349  0.000000\n",
       " 25        1  3.245455  0.000000\n",
       " 26        1  3.386562  0.000000\n",
       " 27        1  3.527669  0.000000\n",
       " 28        1  3.668776  0.000000\n",
       " 29        1  3.809882  0.000000\n",
       " 30        1  3.950989  0.000000\n",
       " 31        1  4.092096  0.000000\n",
       " 32        1  4.233203  0.000000\n",
       " 33        1  4.374309  0.000000\n",
       " 34        1  4.515416  0.000000\n",
       " 35        1  4.656523  0.000000\n",
       " 36        1  4.797630  0.000000\n",
       " 37        1  4.938736  0.000000\n",
       " 38        1  5.079843  0.000000\n",
       " 39        1  5.220950  0.000000\n",
       " 40        1  5.362057  0.000000\n",
       " 41        1  5.503163  0.000000\n",
       " 42        1  5.644270  0.000000\n",
       " 43        1  5.785377  0.000000\n",
       " 44        1  5.926484  0.000000\n",
       " 45        1  6.067590  0.000000\n",
       " 46        1  6.208697  0.000000\n",
       " 47        1  6.349804  0.000000\n",
       " 48        1  6.490911  0.000000\n",
       " 49        1  6.632017  0.000000\n",
       " 50        1  6.773124  0.000000\n",
       " 51        1  6.914231  0.000000)"
      ]
     },
     "execution_count": 20,
     "metadata": {},
     "output_type": "execute_result"
    }
   ],
   "source": [
    "v.vplot.smooth_isobars_and_isopleths(isobars, isopleths)"
   ]
  },
  {
   "cell_type": "code",
   "execution_count": 16,
   "metadata": {},
   "outputs": [],
   "source": [
    "\n",
    "#tuple_data = v.vplot.smooth_isobars_and_isopleths(isobars, isopleths)\n",
    "\n",
    "# Convert the tuple_data into a DataFrame\n",
    "#df = pd.DataFrame(tuple_data, columns=['Pressure', 'H2O_liq', 'CO2_liq',])\n",
    "\n",
    "# Save the DataFrame to an Excel file\n",
    "#excel_file_path = 'output_data.xlsx'\n",
    "#df.to_excel(excel_file_path, index=False)"
   ]
  },
  {
   "cell_type": "code",
   "execution_count": null,
   "metadata": {},
   "outputs": [],
   "source": [
    "#tuple_data = v.vplot.smooth_isobars_and_isopleths(isobars, isopleths)\n",
    "\n",
    "# Convert the tuple of tuples into a list of dictionaries\n",
    "#list_of_dicts = [{'Pressure': item[1], 'H2O_liq': item[2], 'CO2_liq': item[3], 'XH2O_fl': item[4], 'H2O_liq': item[5], 'CO2_liq': item[6]} for item in tuple_data]\n",
    "\n",
    "\n",
    "#df = pd.DataFrame(list_of_dicts)"
   ]
  },
  {
   "cell_type": "code",
   "execution_count": null,
   "metadata": {},
   "outputs": [],
   "source": [
    "#save to excel\n",
    "#df.to_excel('test_10.xlsx', index=False)"
   ]
  },
  {
   "cell_type": "code",
   "execution_count": null,
   "metadata": {},
   "outputs": [],
   "source": [
    "#type(file)"
   ]
  },
  {
   "cell_type": "markdown",
   "metadata": {},
   "source": [
    "### Custom plotting\n",
    "The user may wish to apply custom formatting to the plot, in which case, an example code to plot isobars and isopleths is provided below."
   ]
  },
  {
   "cell_type": "code",
   "execution_count": null,
   "metadata": {},
   "outputs": [],
   "source": [
    "import matplotlib.pyplot as plt\n",
    "import numpy as np\n",
    "\n",
    "# #-----------------------CODE TO PLOT ISOBARS AND ISOPLETHS-----------------#\n",
    "P_vals = isobars.Pressure.unique() #grab all unique pressure values\n",
    "XH2O_vals = isopleths.XH2O_fl.unique() #grab all unique XH2O values\n",
    "isobars_lists = isobars.values.tolist() #transform isobar dataframe into a list of lists\n",
    "isopleths_lists = isopleths.values.tolist() #transform isopleth dataframe into a list of lists\n",
    "\n",
    "# add zero values to volatiles list\n",
    "isobars_lists.append([0.0, 0.0, 0.0, 0.0])\n",
    "\n",
    "# draw the figure\n",
    "fig, ax1 = plt.subplots()\n",
    "plt.xlabel('H2O wt%')\n",
    "plt.ylabel('CO2 wt%')\n",
    "\n",
    "# do some data smoothing\n",
    "for pressure in P_vals:\n",
    "    Pxs = [item[1] for item in isobars_lists if item[0] == pressure]\n",
    "    Pys = [item[2] for item in isobars_lists if item[0] == pressure]\n",
    "\n",
    "    try:\n",
    "        np.seterr(divide='ignore', invalid='ignore') #turn off numpy warning\n",
    "        ## calcualte polynomial\n",
    "        Pz = np.polyfit(Pxs, Pys, 3)\n",
    "        Pf = np.poly1d(Pz)\n",
    "\n",
    "        ## calculate new x's and y's\n",
    "        Px_new = np.linspace(Pxs[0], Pxs[-1], 50)\n",
    "        Py_new = Pf(Px_new)\n",
    "\n",
    "        # Plot some stuff\n",
    "        ax1.plot(Px_new, Py_new)\n",
    "    except:\n",
    "        ax1.plot(Pxs, Pys)\n",
    "\n",
    "for Xfl in XH2O_vals:\n",
    "    Xxs = [item[1] for item in isopleths_lists if item[0] == Xfl]\n",
    "    Xys = [item[2] for item in isopleths_lists if item[0] == Xfl]\n",
    "\n",
    "    try:\n",
    "        ## calcualte polynomial\n",
    "        Xz = np.polyfit(Xxs, Xys, 2)\n",
    "        Xf = np.poly1d(Xz)\n",
    "\n",
    "        ## calculate new x's and y's\n",
    "        Xx_new = np.linspace(Xxs[0], Xxs[-1], 50)\n",
    "        Xy_new = Xf(Xx_new)\n",
    "\n",
    "        # Plot some stuff\n",
    "        ax1.plot(Xx_new, Xy_new, ls='dashed', color='k')\n",
    "    except:\n",
    "        ax1.plot(Xxs, Xys, ls='dashed', color='k')\n",
    "\n",
    "labels = P_vals\n",
    "ax1.legend(labels)\n",
    "\n",
    "np.seterr(divide='warn', invalid='warn') #turn numpy warning back on\n",
    "\n",
    "plt.show()"
   ]
  },
  {
   "cell_type": "code",
   "execution_count": null,
   "metadata": {},
   "outputs": [],
   "source": []
  }
 ],
 "metadata": {
  "kernelspec": {
   "display_name": "Python 3 (ipykernel)",
   "language": "python",
   "name": "python3"
  },
  "language_info": {
   "codemirror_mode": {
    "name": "ipython",
    "version": 3
   },
   "file_extension": ".py",
   "mimetype": "text/x-python",
   "name": "python",
   "nbconvert_exporter": "python",
   "pygments_lexer": "ipython3",
   "version": "3.9.13"
  }
 },
 "nbformat": 4,
 "nbformat_minor": 4
}
