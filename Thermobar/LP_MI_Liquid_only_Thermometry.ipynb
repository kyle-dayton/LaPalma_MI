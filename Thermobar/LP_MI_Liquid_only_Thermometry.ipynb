{
 "cells": [
  {
   "cell_type": "markdown",
   "metadata": {},
   "source": [
    "# Liquid-only thermometry\n",
    "- This script shows how to use the various options for liquid-only thermometry\n",
    "- This tutorial is also a great starting point when using  other thermobarometers, as the choice of inputs is the same as for other phases\n",
    "- You can download the Excel spreadsheet you need here: https://github.com/PennyWieser/Thermobar/blob/main/docs/Examples/Liquid_Ol_Liq_Themometry/Liquid_only_Thermometry.xlsx"
   ]
  },
  {
   "cell_type": "markdown",
   "metadata": {},
   "source": [
    "### You need to install Thermobar once on your machine, if you haven't done this yet, uncomment the line below (remove the #)"
   ]
  },
  {
   "cell_type": "code",
   "execution_count": 1,
   "metadata": {},
   "outputs": [],
   "source": [
    "#!pip install Thermobar"
   ]
  },
  {
   "cell_type": "code",
   "execution_count": 2,
   "metadata": {},
   "outputs": [],
   "source": [
    "import numpy as np\n",
    "import pandas as pd\n",
    "import matplotlib.pyplot as plt\n",
    "import Thermobar as pt"
   ]
  },
  {
   "cell_type": "code",
   "execution_count": 4,
   "metadata": {},
   "outputs": [
    {
     "data": {
      "text/plain": [
       "'1.0.15'"
      ]
     },
     "execution_count": 4,
     "metadata": {},
     "output_type": "execute_result"
    }
   ],
   "source": [
    "pt.__version__"
   ]
  },
  {
   "cell_type": "markdown",
   "metadata": {},
   "source": [
    "## Load in data\n",
    "- The function \"import_excel\" allows you to specify the name of the excel file and the sheet name.\n",
    "- Data should have the headings SiO2_Liq, TiO2_Liq etc. etc. The order of headings doesn't matter.\n",
    "- As in the 5 min intro example, you could also have no _Liq in the headings, and load them in the functoin using suffix=\"_Liq\"\n",
    "- You can also have any other columns, e.g., estimate of pressure from any other proxy (melt inclusions, geophysics), and anything else you might want to plot (e.g., latitude, longitude)"
   ]
  },
  {
   "cell_type": "code",
   "execution_count": 5,
   "metadata": {},
   "outputs": [],
   "source": [
    "out=pt.import_excel('2021_LP_MI_Olivine_MI_PEC_Glasses.xlsx', sheet_name=\"Liq\")\n",
    "my_input=out['my_input']\n",
    "myLiquids1=out['Liqs']"
   ]
  },
  {
   "cell_type": "markdown",
   "metadata": {},
   "source": [
    "### Inspect inputs to check you didn't have any funny column headings.\n",
    "- It is always useful to inspect the outputs from import_excel, sometimes your column headings may have funny characters due to use of spaces, subscripts etc. in journal pdf tables. Check that all the columns you entered have numbers. If, say your SiO2_Liq heading had funny characters, this column will be filled with zeros when you inspect it."
   ]
  },
  {
   "cell_type": "code",
   "execution_count": 6,
   "metadata": {},
   "outputs": [
    {
     "data": {
      "text/html": [
       "<div>\n",
       "<style scoped>\n",
       "    .dataframe tbody tr th:only-of-type {\n",
       "        vertical-align: middle;\n",
       "    }\n",
       "\n",
       "    .dataframe tbody tr th {\n",
       "        vertical-align: top;\n",
       "    }\n",
       "\n",
       "    .dataframe thead th {\n",
       "        text-align: right;\n",
       "    }\n",
       "</style>\n",
       "<table border=\"1\" class=\"dataframe\">\n",
       "  <thead>\n",
       "    <tr style=\"text-align: right;\">\n",
       "      <th></th>\n",
       "      <th>SiO2_Liq</th>\n",
       "      <th>TiO2_Liq</th>\n",
       "      <th>Al2O3_Liq</th>\n",
       "      <th>FeOt_Liq</th>\n",
       "      <th>MnO_Liq</th>\n",
       "      <th>MgO_Liq</th>\n",
       "      <th>CaO_Liq</th>\n",
       "      <th>Na2O_Liq</th>\n",
       "      <th>K2O_Liq</th>\n",
       "      <th>Cr2O3_Liq</th>\n",
       "      <th>P2O5_Liq</th>\n",
       "      <th>H2O_Liq</th>\n",
       "      <th>Fe3Fet_Liq</th>\n",
       "      <th>NiO_Liq</th>\n",
       "      <th>CoO_Liq</th>\n",
       "      <th>CO2_Liq</th>\n",
       "      <th>Sample_ID_Liq</th>\n",
       "    </tr>\n",
       "  </thead>\n",
       "  <tbody>\n",
       "    <tr>\n",
       "      <th>0</th>\n",
       "      <td>43.840</td>\n",
       "      <td>3.876</td>\n",
       "      <td>14.643</td>\n",
       "      <td>12.134</td>\n",
       "      <td>0.149</td>\n",
       "      <td>6.802</td>\n",
       "      <td>10.437</td>\n",
       "      <td>3.568</td>\n",
       "      <td>1.539</td>\n",
       "      <td>0.000</td>\n",
       "      <td>0.767</td>\n",
       "      <td>2.019761</td>\n",
       "      <td>0.3</td>\n",
       "      <td>0.0</td>\n",
       "      <td>0.0</td>\n",
       "      <td>0.0</td>\n",
       "      <td>0</td>\n",
       "    </tr>\n",
       "    <tr>\n",
       "      <th>1</th>\n",
       "      <td>45.059</td>\n",
       "      <td>3.695</td>\n",
       "      <td>14.797</td>\n",
       "      <td>12.137</td>\n",
       "      <td>0.131</td>\n",
       "      <td>6.830</td>\n",
       "      <td>10.245</td>\n",
       "      <td>3.330</td>\n",
       "      <td>1.939</td>\n",
       "      <td>0.002</td>\n",
       "      <td>0.078</td>\n",
       "      <td>1.570071</td>\n",
       "      <td>0.3</td>\n",
       "      <td>0.0</td>\n",
       "      <td>0.0</td>\n",
       "      <td>0.0</td>\n",
       "      <td>1</td>\n",
       "    </tr>\n",
       "    <tr>\n",
       "      <th>2</th>\n",
       "      <td>43.051</td>\n",
       "      <td>4.015</td>\n",
       "      <td>14.360</td>\n",
       "      <td>12.200</td>\n",
       "      <td>0.139</td>\n",
       "      <td>6.394</td>\n",
       "      <td>11.479</td>\n",
       "      <td>3.485</td>\n",
       "      <td>1.383</td>\n",
       "      <td>0.000</td>\n",
       "      <td>0.981</td>\n",
       "      <td>2.236740</td>\n",
       "      <td>0.3</td>\n",
       "      <td>0.0</td>\n",
       "      <td>0.0</td>\n",
       "      <td>0.0</td>\n",
       "      <td>2</td>\n",
       "    </tr>\n",
       "    <tr>\n",
       "      <th>3</th>\n",
       "      <td>42.657</td>\n",
       "      <td>4.024</td>\n",
       "      <td>14.509</td>\n",
       "      <td>12.291</td>\n",
       "      <td>0.158</td>\n",
       "      <td>6.457</td>\n",
       "      <td>11.453</td>\n",
       "      <td>3.437</td>\n",
       "      <td>1.315</td>\n",
       "      <td>0.000</td>\n",
       "      <td>0.985</td>\n",
       "      <td>2.439778</td>\n",
       "      <td>0.3</td>\n",
       "      <td>0.0</td>\n",
       "      <td>0.0</td>\n",
       "      <td>0.0</td>\n",
       "      <td>3</td>\n",
       "    </tr>\n",
       "    <tr>\n",
       "      <th>4</th>\n",
       "      <td>42.614</td>\n",
       "      <td>4.009</td>\n",
       "      <td>14.557</td>\n",
       "      <td>12.193</td>\n",
       "      <td>0.165</td>\n",
       "      <td>6.380</td>\n",
       "      <td>11.450</td>\n",
       "      <td>3.607</td>\n",
       "      <td>1.376</td>\n",
       "      <td>0.000</td>\n",
       "      <td>1.023</td>\n",
       "      <td>2.341731</td>\n",
       "      <td>0.3</td>\n",
       "      <td>0.0</td>\n",
       "      <td>0.0</td>\n",
       "      <td>0.0</td>\n",
       "      <td>4</td>\n",
       "    </tr>\n",
       "  </tbody>\n",
       "</table>\n",
       "</div>"
      ],
      "text/plain": [
       "   SiO2_Liq  TiO2_Liq  Al2O3_Liq  FeOt_Liq  MnO_Liq  MgO_Liq  CaO_Liq  \\\n",
       "0    43.840     3.876     14.643    12.134    0.149    6.802   10.437   \n",
       "1    45.059     3.695     14.797    12.137    0.131    6.830   10.245   \n",
       "2    43.051     4.015     14.360    12.200    0.139    6.394   11.479   \n",
       "3    42.657     4.024     14.509    12.291    0.158    6.457   11.453   \n",
       "4    42.614     4.009     14.557    12.193    0.165    6.380   11.450   \n",
       "\n",
       "   Na2O_Liq  K2O_Liq  Cr2O3_Liq  P2O5_Liq   H2O_Liq  Fe3Fet_Liq  NiO_Liq  \\\n",
       "0     3.568    1.539      0.000     0.767  2.019761         0.3      0.0   \n",
       "1     3.330    1.939      0.002     0.078  1.570071         0.3      0.0   \n",
       "2     3.485    1.383      0.000     0.981  2.236740         0.3      0.0   \n",
       "3     3.437    1.315      0.000     0.985  2.439778         0.3      0.0   \n",
       "4     3.607    1.376      0.000     1.023  2.341731         0.3      0.0   \n",
       "\n",
       "   CoO_Liq  CO2_Liq  Sample_ID_Liq  \n",
       "0      0.0      0.0              0  \n",
       "1      0.0      0.0              1  \n",
       "2      0.0      0.0              2  \n",
       "3      0.0      0.0              3  \n",
       "4      0.0      0.0              4  "
      ]
     },
     "execution_count": 6,
     "metadata": {},
     "output_type": "execute_result"
    }
   ],
   "source": [
    "myLiquids1.head()"
   ]
  },
  {
   "cell_type": "markdown",
   "metadata": {},
   "source": [
    "## If at any point you need help with what functions inputs to use, you can type help(pt.function_name)"
   ]
  },
  {
   "cell_type": "code",
   "execution_count": 7,
   "metadata": {},
   "outputs": [
    {
     "name": "stdout",
     "output_type": "stream",
     "text": [
      "Help on function calculate_liq_only_temp in module Thermobar.liquid_thermometers:\n",
      "\n",
      "calculate_liq_only_temp(*, liq_comps, equationT, P=None, H2O_Liq=None, print=False)\n",
      "     Liquid-only thermometery. Returns a temperature in Kelvin.\n",
      "    \n",
      "    Parameters\n",
      "     -------\n",
      "    \n",
      "     liq_comps: pandas.DataFrame\n",
      "         liquid compositions with column headings SiO2_Liq, MgO_Liq etc.\n",
      "    \n",
      "     equationT: str\n",
      "         If has _sat at the end, represents the saturation surface of that mineral.\n",
      "    \n",
      "         Equations from Putirka et al. (2016).\n",
      "             | T_Put2016_eq3_amp_sat (saturation surface of amphibole)\n",
      "    \n",
      "         Equations from Putirka (2008) and older studies:\n",
      "    \n",
      "             | T_Put2008_eq13\n",
      "             | T_Put2008_eq14\n",
      "             | T_Put2008_eq15\n",
      "             | T_Put2008_eq16\n",
      "             | T_Put2008_eq34_cpx_sat\n",
      "             | T_Put2008_eq28b_opx_sat\n",
      "             | T_Put1999_cpx_sat\n",
      "             * Following 3 thermometers are adaptations of olivine-liquid thermometers with  DMg calculated using Beattie 1993,\n",
      "             This means you can use them without knowing an olivine composition. ocan be applied when you haven't measured an olivine composiiton.\n",
      "             | T_Put2008_eq19_BeattDMg\n",
      "             | T_Put2008_eq21_BeattDMg\n",
      "             | T_Put2008_eq22_BeattDMg\n",
      "    \n",
      "         Equations from Sugawara (2000):\n",
      "    \n",
      "             | T_Sug2000_eq1\n",
      "             | T_Sug2000_eq3_ol\n",
      "             | T_Sug2000_eq3_opx\n",
      "             | T_Sug2000_eq3_cpx\n",
      "             | T_Sug2000_eq3_pig\n",
      "             | T_Sug2000_eq6a\n",
      "             | T_Sug2000_eq6b\n",
      "    \n",
      "         Equations from Helz and Thornber (1987):\n",
      "    \n",
      "             | T_Helz1987_MgO\n",
      "             | T_Helz1987_CaO\n",
      "    \n",
      "         Equation from Molina et al. (2015)\n",
      "    \n",
      "             | T_Molina2015_amp_sat\n",
      "    \n",
      "         Equation from Montrieth 1995\n",
      "            | T_Montierth1995_MgO\n",
      "    \n",
      "         Equation from Beattie (1993)\n",
      "            | T_Beatt1993_opx\n",
      "    \n",
      "     P: float, int, pandas.Series, str  (\"Solve\")\n",
      "         Pressure in kbar\n",
      "         Only needed for P-sensitive thermometers.\n",
      "         If enter P=\"Solve\", returns a partial function\n",
      "         Else, enter an integer, float, or panda series\n",
      "    \n",
      "     H2O_Liq: optional.\n",
      "         If None, uses H2O_Liq column from input.\n",
      "         If int, float, pandas.Series, uses this instead of H2O_Liq Column\n",
      "    \n",
      "    \n",
      "     Returns\n",
      "     -------\n",
      "     pandas series\n",
      "        Temperature in K\n",
      "\n"
     ]
    }
   ],
   "source": [
    "# Options for different thermometers laid out in the \"equationT\" =\n",
    "help(pt.calculate_liq_only_temp)"
   ]
  },
  {
   "cell_type": "markdown",
   "metadata": {},
   "source": [
    "## Example 1 - P and H2O-independent thermometers\n",
    "- The thermometer of Helz and Thornber 1987 is not dependent on pressure or H2O.\n",
    "- Thus, the function only requires 2 inputs, the name of pandas dataframe with liquid compositions (here, myLiquids1) and the name of the equationT you have choosen\n",
    "- All functions output in Kelvin and Kbar, so to get celcius, we subtract 273.15"
   ]
  },
  {
   "cell_type": "code",
   "execution_count": 8,
   "metadata": {},
   "outputs": [
    {
     "data": {
      "text/plain": [
       "0     1150.7202\n",
       "1     1151.2830\n",
       "2     1142.5194\n",
       "3     1143.7857\n",
       "4     1142.2380\n",
       "        ...    \n",
       "67    1152.5895\n",
       "68    1140.0471\n",
       "69    1127.4645\n",
       "70    1134.0975\n",
       "71    1134.7608\n",
       "Name: MgO_Liq, Length: 72, dtype: float64"
      ]
     },
     "execution_count": 8,
     "metadata": {},
     "output_type": "execute_result"
    }
   ],
   "source": [
    "T_Helz1987=pt.calculate_liq_only_temp(liq_comps=myLiquids1,  equationT=\"T_Helz1987_MgO\")-273.15\n",
    "# In jupyter lab/notebooks, outputs don't automatically display, \n",
    "# but it prints the last line in each cell\n",
    "T_Helz1987"
   ]
  },
  {
   "cell_type": "markdown",
   "metadata": {},
   "source": [
    "## Example 2 - Pressure-dependent thermometer \n",
    "a) If you select an equation which is Pressure-dependent, and don't specify a pressure, the code returns an error\n",
    "\n",
    "b) You can either select P=\"Solve\" which returns a partial function. This means you can evaluate it at any pressure you want easily\n",
    "\n",
    "c) Or you can specify a fixed pressure, e.g., P=5 (which runs all calculations at 5 kbar)\n",
    "\n",
    "d) Or you can specify pressure based on a column in your original spreadsheet containing pressure"
   ]
  },
  {
   "cell_type": "markdown",
   "metadata": {},
   "source": [
    "## Example 2a - Don't specify a pressure\n",
    "- returns an error, telling you to input a pressure"
   ]
  },
  {
   "cell_type": "code",
   "execution_count": 9,
   "metadata": {},
   "outputs": [
    {
     "ename": "ValueError",
     "evalue": "T_Put2008_eq15 requires you to enter P, or specify P=\"Solve\"",
     "output_type": "error",
     "traceback": [
      "\u001b[0;31m---------------------------------------------------------------------------\u001b[0m",
      "\u001b[0;31mValueError\u001b[0m                                Traceback (most recent call last)",
      "Input \u001b[0;32mIn [9]\u001b[0m, in \u001b[0;36m<cell line: 1>\u001b[0;34m()\u001b[0m\n\u001b[0;32m----> 1\u001b[0m Teq15_2kbar_6wt\u001b[38;5;241m=\u001b[39m\u001b[43mpt\u001b[49m\u001b[38;5;241;43m.\u001b[39;49m\u001b[43mcalculate_liq_only_temp\u001b[49m\u001b[43m(\u001b[49m\u001b[43mliq_comps\u001b[49m\u001b[38;5;241;43m=\u001b[39;49m\u001b[43mmyLiquids1\u001b[49m\u001b[43m,\u001b[49m\u001b[43m  \u001b[49m\n\u001b[1;32m      2\u001b[0m \u001b[43m                \u001b[49m\u001b[43mequationT\u001b[49m\u001b[38;5;241;43m=\u001b[39;49m\u001b[38;5;124;43m\"\u001b[39;49m\u001b[38;5;124;43mT_Put2008_eq15\u001b[39;49m\u001b[38;5;124;43m\"\u001b[39;49m\u001b[43m)\u001b[49m\u001b[38;5;241m-\u001b[39m\u001b[38;5;241m273.15\u001b[39m \u001b[38;5;66;03m# Convert to Celcius\u001b[39;00m\n\u001b[1;32m      3\u001b[0m Teq15_2kbar_6wt\n",
      "File \u001b[0;32m~/opt/anaconda3/lib/python3.9/site-packages/Thermobar/liquid_thermometers.py:548\u001b[0m, in \u001b[0;36mcalculate_liq_only_temp\u001b[0;34m(liq_comps, equationT, P, H2O_Liq, print)\u001b[0m\n\u001b[1;32m    546\u001b[0m \u001b[38;5;28;01mif\u001b[39;00m sig\u001b[38;5;241m.\u001b[39mparameters[\u001b[38;5;124m'\u001b[39m\u001b[38;5;124mP\u001b[39m\u001b[38;5;124m'\u001b[39m]\u001b[38;5;241m.\u001b[39mdefault \u001b[38;5;129;01mis\u001b[39;00m \u001b[38;5;129;01mnot\u001b[39;00m \u001b[38;5;28;01mNone\u001b[39;00m:\n\u001b[1;32m    547\u001b[0m     \u001b[38;5;28;01mif\u001b[39;00m P \u001b[38;5;129;01mis\u001b[39;00m \u001b[38;5;28;01mNone\u001b[39;00m:\n\u001b[0;32m--> 548\u001b[0m         \u001b[38;5;28;01mraise\u001b[39;00m \u001b[38;5;167;01mValueError\u001b[39;00m(\u001b[38;5;124mf\u001b[39m\u001b[38;5;124m'\u001b[39m\u001b[38;5;132;01m{\u001b[39;00mequationT\u001b[38;5;132;01m}\u001b[39;00m\u001b[38;5;124m requires you to enter P, or specify P=\u001b[39m\u001b[38;5;124m\"\u001b[39m\u001b[38;5;124mSolve\u001b[39m\u001b[38;5;124m\"\u001b[39m\u001b[38;5;124m'\u001b[39m)\n\u001b[1;32m    550\u001b[0m \u001b[38;5;66;03m#else:\u001b[39;00m\n\u001b[1;32m    551\u001b[0m     \u001b[38;5;66;03m# print('gothere2')\u001b[39;00m\n\u001b[1;32m    552\u001b[0m     \u001b[38;5;66;03m# if P is not None:\u001b[39;00m\n\u001b[0;32m   (...)\u001b[0m\n\u001b[1;32m    555\u001b[0m     \u001b[38;5;66;03m#     P=None\u001b[39;00m\n\u001b[1;32m    556\u001b[0m     \u001b[38;5;66;03m#     print('got here')\u001b[39;00m\n\u001b[1;32m    560\u001b[0m kwargs \u001b[38;5;241m=\u001b[39m {name: anhyd_cat_frac[name] \u001b[38;5;28;01mfor\u001b[39;00m name, p \u001b[38;5;129;01min\u001b[39;00m sig\u001b[38;5;241m.\u001b[39mparameters\u001b[38;5;241m.\u001b[39mitems() \u001b[38;5;28;01mif\u001b[39;00m p\u001b[38;5;241m.\u001b[39mkind \u001b[38;5;241m==\u001b[39m inspect\u001b[38;5;241m.\u001b[39mParameter\u001b[38;5;241m.\u001b[39mKEYWORD_ONLY}\n",
      "\u001b[0;31mValueError\u001b[0m: T_Put2008_eq15 requires you to enter P, or specify P=\"Solve\""
     ]
    }
   ],
   "source": [
    "Teq15_2kbar_6wt=pt.calculate_liq_only_temp(liq_comps=myLiquids1,  \n",
    "                equationT=\"T_Put2008_eq15\")-273.15 # Convert to Celcius\n",
    "Teq15_2kbar_6wt"
   ]
  },
  {
   "cell_type": "markdown",
   "metadata": {},
   "source": [
    "## Example 2b - specify P=\"Solve\" to return a partial function"
   ]
  },
  {
   "cell_type": "code",
   "execution_count": 10,
   "metadata": {},
   "outputs": [],
   "source": [
    "Teq15_partial=pt.calculate_liq_only_temp(liq_comps=myLiquids1,  \n",
    "            equationT=\"T_Put2008_eq15\", P=\"Solve\")# Output is in Kelvin"
   ]
  },
  {
   "cell_type": "code",
   "execution_count": 11,
   "metadata": {},
   "outputs": [
    {
     "data": {
      "text/plain": [
       "0     1204.207733\n",
       "1     1211.766357\n",
       "2     1189.668755\n",
       "3     1188.202024\n",
       "4     1188.703299\n",
       "         ...     \n",
       "67    1211.598076\n",
       "68    1197.918547\n",
       "69    1179.325179\n",
       "70    1190.796133\n",
       "71    1196.800410\n",
       "Length: 72, dtype: float64"
      ]
     },
     "execution_count": 11,
     "metadata": {},
     "output_type": "execute_result"
    }
   ],
   "source": [
    "# You can then evaluate this partial at any pressure you want (here, 10 kbar).\n",
    "# This can save computation time\n",
    "Teq15_10kbar=Teq15_partial(10)-273.15\n",
    "Teq15_10kbar"
   ]
  },
  {
   "cell_type": "markdown",
   "metadata": {},
   "source": [
    "## Example 2c - evaluate at constant pressure"
   ]
  },
  {
   "cell_type": "code",
   "execution_count": 12,
   "metadata": {},
   "outputs": [
    {
     "data": {
      "text/plain": [
       "0     1188.543733\n",
       "1     1196.102357\n",
       "2     1174.004755\n",
       "3     1172.538024\n",
       "4     1173.039299\n",
       "         ...     \n",
       "67    1195.934076\n",
       "68    1182.254547\n",
       "69    1163.661179\n",
       "70    1175.132133\n",
       "71    1181.136410\n",
       "Length: 72, dtype: float64"
      ]
     },
     "execution_count": 12,
     "metadata": {},
     "output_type": "execute_result"
    }
   ],
   "source": [
    "# Here P=5 kbar\n",
    "Teq15_5kbar=pt.calculate_liq_only_temp(liq_comps=myLiquids1,  \n",
    "            equationT=\"T_Put2008_eq15\", P=6)-273.15 # Output is in Kelvin, convert to C\n",
    "Teq15_5kbar "
   ]
  },
  {
   "cell_type": "markdown",
   "metadata": {},
   "source": [
    "## Example 2d - Evaluate at values given by P_kbar column in inputted excel spreadsheet\n",
    "- your column can be called anything, you just need state P=my_input['column name']. If you stored pressure in GPa say, you could do P=10*my_input['P_GPa']"
   ]
  },
  {
   "cell_type": "code",
   "execution_count": 13,
   "metadata": {},
   "outputs": [
    {
     "data": {
      "text/plain": [
       "0     1188.543733\n",
       "1     1196.102357\n",
       "2     1174.004755\n",
       "3     1172.538024\n",
       "4     1173.039299\n",
       "         ...     \n",
       "67    1196.325676\n",
       "68    1182.646147\n",
       "69    1164.052779\n",
       "70    1175.523733\n",
       "71    1181.528010\n",
       "Length: 72, dtype: float64"
      ]
     },
     "execution_count": 13,
     "metadata": {},
     "output_type": "execute_result"
    }
   ],
   "source": [
    "Teq15_input=pt.calculate_liq_only_temp(liq_comps=myLiquids1,  \n",
    "            equationT=\"T_Put2008_eq15\", P=my_input['P_kbar'])-273.15 \n",
    "# Output is in Kelvin, convert to c.\n",
    "Teq15_input"
   ]
  },
  {
   "cell_type": "markdown",
   "metadata": {},
   "source": [
    "## Example 3 - Specifying water content\n",
    "- The dataframe for liquids in this example has a H2O column it read from the excel spreadsheet. By default, H2O-dependent thermometers will use the values entered in this column\n",
    "- If you don't have this column, it'll be filled with zeros, so calculations will be done at H2O=0\n",
    "- However, you can also override this by specifying H2O_Liq=value in the function."
   ]
  },
  {
   "cell_type": "code",
   "execution_count": 14,
   "metadata": {},
   "outputs": [
    {
     "data": {
      "text/plain": [
       "0     1182.682119\n",
       "1     1190.162090\n",
       "2     1166.899401\n",
       "3     1165.018830\n",
       "4     1165.895935\n",
       "         ...     \n",
       "67    1192.209122\n",
       "68    1178.621911\n",
       "69    1158.984208\n",
       "70    1170.779505\n",
       "71    1178.084149\n",
       "Length: 72, dtype: float64"
      ]
     },
     "execution_count": 14,
     "metadata": {},
     "output_type": "execute_result"
    }
   ],
   "source": [
    "Teq15_2H2O=pt.calculate_liq_only_temp(liq_comps=myLiquids1,  \n",
    "        equationT=\"T_Put2008_eq22_BeattDMg\", P=my_input['P_kbar'], H2O_Liq=my_input['H2O_Liq'])-273.15 # Output is in Kelvin\n",
    "Teq15_2H2O"
   ]
  },
  {
   "cell_type": "code",
   "execution_count": 15,
   "metadata": {},
   "outputs": [],
   "source": [
    "Teq15_2H2O.to_csv('ALL LP MI Liq Putirka 2008 plus BeattDMg in C.csv') "
   ]
  },
  {
   "cell_type": "markdown",
   "metadata": {},
   "source": [
    "#### We can also investigate how sensitive our calculations are to water, say we think maybe water ranges from 2-4 wt%, we can do the same calculation at 4 wt%"
   ]
  },
  {
   "cell_type": "code",
   "execution_count": 38,
   "metadata": {},
   "outputs": [
    {
     "data": {
      "text/plain": [
       "0     1153.719755\n",
       "1     1147.732697\n",
       "2     1146.412219\n",
       "3     1155.216428\n",
       "4     1140.962939\n",
       "5     1148.161127\n",
       "6     1139.090296\n",
       "7     1150.684424\n",
       "8     1144.406584\n",
       "9     1140.794102\n",
       "10    1146.575601\n",
       "11    1148.458646\n",
       "12    1149.077266\n",
       "13    1150.980620\n",
       "14    1151.699878\n",
       "15    1147.994865\n",
       "16    1130.260588\n",
       "17    1130.800903\n",
       "18    1155.355256\n",
       "19    1146.901892\n",
       "20    1142.629000\n",
       "21    1152.095323\n",
       "22    1155.459468\n",
       "23    1156.600608\n",
       "24    1134.646142\n",
       "25    1140.112690\n",
       "26    1150.132571\n",
       "27    1147.816788\n",
       "28    1150.335374\n",
       "29    1143.212923\n",
       "30    1159.309139\n",
       "31    1160.284850\n",
       "32    1166.116595\n",
       "33    1161.962557\n",
       "34    1158.569179\n",
       "35    1140.863637\n",
       "36    1169.134793\n",
       "37    1160.602277\n",
       "38    1164.683315\n",
       "39    1159.052426\n",
       "40    1138.875366\n",
       "41    1164.085671\n",
       "42    1145.209682\n",
       "43    1168.907706\n",
       "44    1153.392108\n",
       "45    1193.936388\n",
       "46    1174.683699\n",
       "47    1135.610638\n",
       "48    1134.488773\n",
       "49    1139.501749\n",
       "50    1146.888356\n",
       "51    1160.945060\n",
       "52    1159.999192\n",
       "53    1151.046353\n",
       "54    1129.293709\n",
       "55    1139.322469\n",
       "56    1141.397838\n",
       "dtype: float64"
      ]
     },
     "execution_count": 38,
     "metadata": {},
     "output_type": "execute_result"
    }
   ],
   "source": [
    "Teq15_4H2O=pt.calculate_liq_only_temp(liq_comps=myLiquids1,  \n",
    "                                      equationT=\"T_Put2008_eq15\", P=5, H2O_Liq=4)-273.15 # Output is in Kelvin\n",
    "Teq15_4H2O"
   ]
  },
  {
   "cell_type": "markdown",
   "metadata": {},
   "source": [
    "#### We can now calculate the difference between these by subtracting one from the other. Here, as H2O_Liq is just a constant on the function, the difference is constant for all liquids"
   ]
  },
  {
   "cell_type": "code",
   "execution_count": 39,
   "metadata": {},
   "outputs": [
    {
     "data": {
      "text/plain": [
       "0    -25.598751\n",
       "1    -21.152013\n",
       "2    -19.569803\n",
       "3    -23.712227\n",
       "4    -29.059312\n",
       "5    -30.158139\n",
       "6    -29.480518\n",
       "7    -26.846804\n",
       "8    -24.358843\n",
       "9    -26.207965\n",
       "10   -20.294551\n",
       "11   -21.910654\n",
       "12   -21.770068\n",
       "13   -21.958291\n",
       "14   -22.532339\n",
       "15   -22.196344\n",
       "16   -24.447813\n",
       "17   -24.275449\n",
       "18   -23.587341\n",
       "19   -27.304416\n",
       "20   -31.575431\n",
       "21   -27.594324\n",
       "22   -30.314462\n",
       "23   -31.858015\n",
       "24   -25.898586\n",
       "25   -22.117851\n",
       "26   -28.926785\n",
       "27   -26.155795\n",
       "28   -23.531847\n",
       "29   -24.400138\n",
       "30   -37.232276\n",
       "31   -40.402167\n",
       "32   -38.661981\n",
       "33   -40.229204\n",
       "34   -42.689020\n",
       "35   -34.125849\n",
       "36   -39.363144\n",
       "37   -40.262075\n",
       "38   -43.717249\n",
       "39   -42.563459\n",
       "40   -41.798666\n",
       "41   -51.067487\n",
       "42   -30.276990\n",
       "43   -38.274279\n",
       "44   -37.665225\n",
       "45   -43.212241\n",
       "46   -37.690013\n",
       "47   -31.397101\n",
       "48   -34.215201\n",
       "49   -37.816560\n",
       "50   -39.708410\n",
       "51   -38.250410\n",
       "52   -34.030941\n",
       "53   -34.302842\n",
       "54   -30.294020\n",
       "55   -31.897631\n",
       "56   -38.987065\n",
       "dtype: float64"
      ]
     },
     "execution_count": 39,
     "metadata": {},
     "output_type": "execute_result"
    }
   ],
   "source": [
    "Teq15_4H2O-Teq15_2H2O"
   ]
  },
  {
   "cell_type": "markdown",
   "metadata": {},
   "source": [
    "## Exporting data\n",
    "- There are a number of ways you can export data to excel\n",
    "- The first example appends these new calculations onto a copy of the \"my_input\" dataframe. This means you can export a spreadsheet that looks exactly like your input spreadsheet, but with the values for the new calculations"
   ]
  },
  {
   "cell_type": "code",
   "execution_count": 40,
   "metadata": {},
   "outputs": [],
   "source": [
    "# First make a copy of the dataframe so you don't overwrite the original\n",
    "my_input_c=my_input.copy()\n",
    "# To make a new column, you specify my_input_c['new column name']= value\n",
    "my_input_c['T_Helz1987']=T_Helz1987\n",
    "# You can add as many new columns as you wish\n",
    "my_input_c['Teq15_4H2O']=Teq15_4H2O\n",
    "# You can give your columns in the new dataframe any name you wish...\n",
    "my_input_c['Temp eq 15 4 wt% H2O']=Teq15_4H2O\n",
    "# Now, you ue the \"to_excel\" panda function to save this new appended dataframe to excel. The name of the dataframe you've been appended to goes on the let, and the name of the\n",
    "# file you want to make goes bewteen the ' ' signs\n",
    "my_input_c.to_excel('Thermometry_out1.xlsx')"
   ]
  },
  {
   "cell_type": "code",
   "execution_count": null,
   "metadata": {},
   "outputs": [],
   "source": []
  },
  {
   "cell_type": "code",
   "execution_count": null,
   "metadata": {},
   "outputs": [],
   "source": []
  }
 ],
 "metadata": {
  "kernelspec": {
   "display_name": "Python 3 (ipykernel)",
   "language": "python",
   "name": "python3"
  },
  "language_info": {
   "codemirror_mode": {
    "name": "ipython",
    "version": 3
   },
   "file_extension": ".py",
   "mimetype": "text/x-python",
   "name": "python",
   "nbconvert_exporter": "python",
   "pygments_lexer": "ipython3",
   "version": "3.9.13"
  },
  "toc": {
   "base_numbering": 1,
   "nav_menu": {},
   "number_sections": true,
   "sideBar": true,
   "skip_h1_title": false,
   "title_cell": "Table of Contents",
   "title_sidebar": "Contents",
   "toc_cell": false,
   "toc_position": {},
   "toc_section_display": true,
   "toc_window_display": false
  },
  "varInspector": {
   "cols": {
    "lenName": 16,
    "lenType": 16,
    "lenVar": 40
   },
   "kernels_config": {
    "python": {
     "delete_cmd_postfix": "",
     "delete_cmd_prefix": "del ",
     "library": "var_list.py",
     "varRefreshCmd": "print(var_dic_list())"
    },
    "r": {
     "delete_cmd_postfix": ") ",
     "delete_cmd_prefix": "rm(",
     "library": "var_list.r",
     "varRefreshCmd": "cat(var_dic_list()) "
    }
   },
   "types_to_exclude": [
    "module",
    "function",
    "builtin_function_or_method",
    "instance",
    "_Feature"
   ],
   "window_display": false
  }
 },
 "nbformat": 4,
 "nbformat_minor": 4
}
